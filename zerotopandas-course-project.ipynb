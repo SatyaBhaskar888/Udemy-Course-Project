{
 "cells": [
  {
   "cell_type": "markdown",
   "metadata": {},
   "source": [
    "# UDEMY COURSES PROJECT \n",
    "\n",
    "TODO - Write some introduction about your project here: describe the dataset, where you got it from, what you're trying to do with it, and which tools & techniques you're using. You can also mention about the course [Data Analysis with Python: Zero to Pandas](zerotopandas.com), and what you've learned from it."
   ]
  },
  {
   "cell_type": "markdown",
   "metadata": {},
   "source": [
    "## Downloading the Dataset\n",
    "\n",
    "Downloading the dataset is the foremost and important step and it is to download raw material data for whichever project we are making. Python is a great language for doing data analysis, using this we will analyze the data of Udemy Courses and this dataset is downloaded from kaggle.com and we will further proceed it. "
   ]
  },
  {
   "cell_type": "code",
   "execution_count": 1,
   "metadata": {},
   "outputs": [],
   "source": [
    "!pip install jovian opendatasets --upgrade --quiet"
   ]
  },
  {
   "cell_type": "markdown",
   "metadata": {},
   "source": [
    "Let's begin by downloading the data, and listing the files within the dataset."
   ]
  },
  {
   "cell_type": "code",
   "execution_count": 2,
   "metadata": {},
   "outputs": [],
   "source": [
    "udemy_courses_url = 'https://www.kaggle.com/andrewmvd/udemy-courses'"
   ]
  },
  {
   "cell_type": "code",
   "execution_count": 4,
   "metadata": {},
   "outputs": [
    {
     "name": "stdout",
     "output_type": "stream",
     "text": [
      "Skipping, found downloaded files in \"./udemy-courses\" (use force=True to force download)\n"
     ]
    }
   ],
   "source": [
    "import opendatasets as od\n",
    "od.download(udemy_courses_url)"
   ]
  },
  {
   "cell_type": "markdown",
   "metadata": {},
   "source": [
    "The dataset has been downloaded and extracted."
   ]
  },
  {
   "cell_type": "code",
   "execution_count": 5,
   "metadata": {},
   "outputs": [],
   "source": [
    "# Change this\n",
    "data_dir = './udemy-courses'"
   ]
  },
  {
   "cell_type": "code",
   "execution_count": 6,
   "metadata": {},
   "outputs": [
    {
     "data": {
      "text/plain": [
       "['udemy_courses.csv']"
      ]
     },
     "execution_count": 6,
     "metadata": {},
     "output_type": "execute_result"
    }
   ],
   "source": [
    "import os\n",
    "os.listdir(data_dir)"
   ]
  },
  {
   "cell_type": "markdown",
   "metadata": {},
   "source": [
    "Let us save and upload our work to Jovian before continuing."
   ]
  },
  {
   "cell_type": "code",
   "execution_count": 7,
   "metadata": {},
   "outputs": [],
   "source": [
    "project_name = \"zero-to-pandas-course-project\" # change this (use lowercase letters and hyphens only)"
   ]
  },
  {
   "cell_type": "code",
   "execution_count": 8,
   "metadata": {},
   "outputs": [],
   "source": [
    "!pip install jovian --upgrade -q"
   ]
  },
  {
   "cell_type": "code",
   "execution_count": 9,
   "metadata": {},
   "outputs": [],
   "source": [
    "import jovian"
   ]
  },
  {
   "cell_type": "code",
   "execution_count": 10,
   "metadata": {},
   "outputs": [
    {
     "data": {
      "application/javascript": [
       "window.require && require([\"base/js/namespace\"],function(Jupyter){Jupyter.notebook.save_checkpoint()})"
      ],
      "text/plain": [
       "<IPython.core.display.Javascript object>"
      ]
     },
     "metadata": {},
     "output_type": "display_data"
    },
    {
     "name": "stdout",
     "output_type": "stream",
     "text": [
      "[jovian] Creating a new project \"bkbhaskar25/zero-to-pandas-course-project\"\u001b[0m\n",
      "[jovian] Committed successfully! https://jovian.ai/bkbhaskar25/zero-to-pandas-course-project\u001b[0m\n"
     ]
    },
    {
     "data": {
      "text/plain": [
       "'https://jovian.ai/bkbhaskar25/zero-to-pandas-course-project'"
      ]
     },
     "execution_count": 10,
     "metadata": {},
     "output_type": "execute_result"
    }
   ],
   "source": [
    "jovian.commit(project=project_name)"
   ]
  },
  {
   "cell_type": "markdown",
   "metadata": {},
   "source": [
    "## Data Preparation and Cleaning\n",
    "\n",
    "It is the process of transforming raw available data to processing and analysis for further applications.\n",
    "\n"
   ]
  },
  {
   "cell_type": "code",
   "execution_count": 15,
   "metadata": {},
   "outputs": [
    {
     "name": "stdout",
     "output_type": "stream",
     "text": [
      "Requirement already satisfied: pandas in /opt/conda/lib/python3.9/site-packages (1.3.3)\n",
      "Requirement already satisfied: numpy>=1.17.3 in /opt/conda/lib/python3.9/site-packages (from pandas) (1.20.3)\n",
      "Requirement already satisfied: python-dateutil>=2.7.3 in /opt/conda/lib/python3.9/site-packages (from pandas) (2.8.2)\n",
      "Requirement already satisfied: pytz>=2017.3 in /opt/conda/lib/python3.9/site-packages (from pandas) (2021.1)\n",
      "Requirement already satisfied: six>=1.5 in /opt/conda/lib/python3.9/site-packages (from python-dateutil>=2.7.3->pandas) (1.16.0)\n"
     ]
    }
   ],
   "source": [
    "!pip install pandas"
   ]
  },
  {
   "cell_type": "code",
   "execution_count": 16,
   "metadata": {},
   "outputs": [],
   "source": [
    "import pandas as pd"
   ]
  },
  {
   "cell_type": "code",
   "execution_count": 17,
   "metadata": {},
   "outputs": [],
   "source": [
    "udemy_courses_df = pd.read_csv(data_dir+\"/udemy_courses.csv\")"
   ]
  },
  {
   "cell_type": "code",
   "execution_count": 18,
   "metadata": {},
   "outputs": [
    {
     "data": {
      "text/html": [
       "<div>\n",
       "<style scoped>\n",
       "    .dataframe tbody tr th:only-of-type {\n",
       "        vertical-align: middle;\n",
       "    }\n",
       "\n",
       "    .dataframe tbody tr th {\n",
       "        vertical-align: top;\n",
       "    }\n",
       "\n",
       "    .dataframe thead th {\n",
       "        text-align: right;\n",
       "    }\n",
       "</style>\n",
       "<table border=\"1\" class=\"dataframe\">\n",
       "  <thead>\n",
       "    <tr style=\"text-align: right;\">\n",
       "      <th></th>\n",
       "      <th>course_id</th>\n",
       "      <th>course_title</th>\n",
       "      <th>url</th>\n",
       "      <th>is_paid</th>\n",
       "      <th>price</th>\n",
       "      <th>num_subscribers</th>\n",
       "      <th>num_reviews</th>\n",
       "      <th>num_lectures</th>\n",
       "      <th>level</th>\n",
       "      <th>content_duration</th>\n",
       "      <th>published_timestamp</th>\n",
       "      <th>subject</th>\n",
       "    </tr>\n",
       "  </thead>\n",
       "  <tbody>\n",
       "    <tr>\n",
       "      <th>0</th>\n",
       "      <td>1070968</td>\n",
       "      <td>Ultimate Investment Banking Course</td>\n",
       "      <td>https://www.udemy.com/ultimate-investment-bank...</td>\n",
       "      <td>True</td>\n",
       "      <td>200</td>\n",
       "      <td>2147</td>\n",
       "      <td>23</td>\n",
       "      <td>51</td>\n",
       "      <td>All Levels</td>\n",
       "      <td>1.5</td>\n",
       "      <td>2017-01-18T20:58:58Z</td>\n",
       "      <td>Business Finance</td>\n",
       "    </tr>\n",
       "    <tr>\n",
       "      <th>1</th>\n",
       "      <td>1113822</td>\n",
       "      <td>Complete GST Course &amp; Certification - Grow You...</td>\n",
       "      <td>https://www.udemy.com/goods-and-services-tax/</td>\n",
       "      <td>True</td>\n",
       "      <td>75</td>\n",
       "      <td>2792</td>\n",
       "      <td>923</td>\n",
       "      <td>274</td>\n",
       "      <td>All Levels</td>\n",
       "      <td>39.0</td>\n",
       "      <td>2017-03-09T16:34:20Z</td>\n",
       "      <td>Business Finance</td>\n",
       "    </tr>\n",
       "    <tr>\n",
       "      <th>2</th>\n",
       "      <td>1006314</td>\n",
       "      <td>Financial Modeling for Business Analysts and C...</td>\n",
       "      <td>https://www.udemy.com/financial-modeling-for-b...</td>\n",
       "      <td>True</td>\n",
       "      <td>45</td>\n",
       "      <td>2174</td>\n",
       "      <td>74</td>\n",
       "      <td>51</td>\n",
       "      <td>Intermediate Level</td>\n",
       "      <td>2.5</td>\n",
       "      <td>2016-12-19T19:26:30Z</td>\n",
       "      <td>Business Finance</td>\n",
       "    </tr>\n",
       "    <tr>\n",
       "      <th>3</th>\n",
       "      <td>1210588</td>\n",
       "      <td>Beginner to Pro - Financial Analysis in Excel ...</td>\n",
       "      <td>https://www.udemy.com/complete-excel-finance-c...</td>\n",
       "      <td>True</td>\n",
       "      <td>95</td>\n",
       "      <td>2451</td>\n",
       "      <td>11</td>\n",
       "      <td>36</td>\n",
       "      <td>All Levels</td>\n",
       "      <td>3.0</td>\n",
       "      <td>2017-05-30T20:07:24Z</td>\n",
       "      <td>Business Finance</td>\n",
       "    </tr>\n",
       "    <tr>\n",
       "      <th>4</th>\n",
       "      <td>1011058</td>\n",
       "      <td>How To Maximize Your Profits Trading Options</td>\n",
       "      <td>https://www.udemy.com/how-to-maximize-your-pro...</td>\n",
       "      <td>True</td>\n",
       "      <td>200</td>\n",
       "      <td>1276</td>\n",
       "      <td>45</td>\n",
       "      <td>26</td>\n",
       "      <td>Intermediate Level</td>\n",
       "      <td>2.0</td>\n",
       "      <td>2016-12-13T14:57:18Z</td>\n",
       "      <td>Business Finance</td>\n",
       "    </tr>\n",
       "    <tr>\n",
       "      <th>...</th>\n",
       "      <td>...</td>\n",
       "      <td>...</td>\n",
       "      <td>...</td>\n",
       "      <td>...</td>\n",
       "      <td>...</td>\n",
       "      <td>...</td>\n",
       "      <td>...</td>\n",
       "      <td>...</td>\n",
       "      <td>...</td>\n",
       "      <td>...</td>\n",
       "      <td>...</td>\n",
       "      <td>...</td>\n",
       "    </tr>\n",
       "    <tr>\n",
       "      <th>3673</th>\n",
       "      <td>775618</td>\n",
       "      <td>Learn jQuery from Scratch - Master of JavaScri...</td>\n",
       "      <td>https://www.udemy.com/easy-jquery-for-beginner...</td>\n",
       "      <td>True</td>\n",
       "      <td>100</td>\n",
       "      <td>1040</td>\n",
       "      <td>14</td>\n",
       "      <td>21</td>\n",
       "      <td>All Levels</td>\n",
       "      <td>2.0</td>\n",
       "      <td>2016-06-14T17:36:46Z</td>\n",
       "      <td>Web Development</td>\n",
       "    </tr>\n",
       "    <tr>\n",
       "      <th>3674</th>\n",
       "      <td>1088178</td>\n",
       "      <td>How To Design A WordPress Website With No Codi...</td>\n",
       "      <td>https://www.udemy.com/how-to-make-a-wordpress-...</td>\n",
       "      <td>True</td>\n",
       "      <td>25</td>\n",
       "      <td>306</td>\n",
       "      <td>3</td>\n",
       "      <td>42</td>\n",
       "      <td>Beginner Level</td>\n",
       "      <td>3.5</td>\n",
       "      <td>2017-03-10T22:24:30Z</td>\n",
       "      <td>Web Development</td>\n",
       "    </tr>\n",
       "    <tr>\n",
       "      <th>3675</th>\n",
       "      <td>635248</td>\n",
       "      <td>Learn and Build using Polymer</td>\n",
       "      <td>https://www.udemy.com/learn-and-build-using-po...</td>\n",
       "      <td>True</td>\n",
       "      <td>40</td>\n",
       "      <td>513</td>\n",
       "      <td>169</td>\n",
       "      <td>48</td>\n",
       "      <td>All Levels</td>\n",
       "      <td>3.5</td>\n",
       "      <td>2015-12-30T16:41:42Z</td>\n",
       "      <td>Web Development</td>\n",
       "    </tr>\n",
       "    <tr>\n",
       "      <th>3676</th>\n",
       "      <td>905096</td>\n",
       "      <td>CSS Animations: Create Amazing Effects on Your...</td>\n",
       "      <td>https://www.udemy.com/css-animations-create-am...</td>\n",
       "      <td>True</td>\n",
       "      <td>50</td>\n",
       "      <td>300</td>\n",
       "      <td>31</td>\n",
       "      <td>38</td>\n",
       "      <td>All Levels</td>\n",
       "      <td>3.0</td>\n",
       "      <td>2016-08-11T19:06:15Z</td>\n",
       "      <td>Web Development</td>\n",
       "    </tr>\n",
       "    <tr>\n",
       "      <th>3677</th>\n",
       "      <td>297602</td>\n",
       "      <td>Using MODX CMS to Build Websites: A Beginner's...</td>\n",
       "      <td>https://www.udemy.com/using-modx-cms-to-build-...</td>\n",
       "      <td>True</td>\n",
       "      <td>45</td>\n",
       "      <td>901</td>\n",
       "      <td>36</td>\n",
       "      <td>20</td>\n",
       "      <td>Beginner Level</td>\n",
       "      <td>2.0</td>\n",
       "      <td>2014-09-28T19:51:11Z</td>\n",
       "      <td>Web Development</td>\n",
       "    </tr>\n",
       "  </tbody>\n",
       "</table>\n",
       "<p>3678 rows × 12 columns</p>\n",
       "</div>"
      ],
      "text/plain": [
       "      course_id                                       course_title  \\\n",
       "0       1070968                 Ultimate Investment Banking Course   \n",
       "1       1113822  Complete GST Course & Certification - Grow You...   \n",
       "2       1006314  Financial Modeling for Business Analysts and C...   \n",
       "3       1210588  Beginner to Pro - Financial Analysis in Excel ...   \n",
       "4       1011058       How To Maximize Your Profits Trading Options   \n",
       "...         ...                                                ...   \n",
       "3673     775618  Learn jQuery from Scratch - Master of JavaScri...   \n",
       "3674    1088178  How To Design A WordPress Website With No Codi...   \n",
       "3675     635248                      Learn and Build using Polymer   \n",
       "3676     905096  CSS Animations: Create Amazing Effects on Your...   \n",
       "3677     297602  Using MODX CMS to Build Websites: A Beginner's...   \n",
       "\n",
       "                                                    url  is_paid  price  \\\n",
       "0     https://www.udemy.com/ultimate-investment-bank...     True    200   \n",
       "1         https://www.udemy.com/goods-and-services-tax/     True     75   \n",
       "2     https://www.udemy.com/financial-modeling-for-b...     True     45   \n",
       "3     https://www.udemy.com/complete-excel-finance-c...     True     95   \n",
       "4     https://www.udemy.com/how-to-maximize-your-pro...     True    200   \n",
       "...                                                 ...      ...    ...   \n",
       "3673  https://www.udemy.com/easy-jquery-for-beginner...     True    100   \n",
       "3674  https://www.udemy.com/how-to-make-a-wordpress-...     True     25   \n",
       "3675  https://www.udemy.com/learn-and-build-using-po...     True     40   \n",
       "3676  https://www.udemy.com/css-animations-create-am...     True     50   \n",
       "3677  https://www.udemy.com/using-modx-cms-to-build-...     True     45   \n",
       "\n",
       "      num_subscribers  num_reviews  num_lectures               level  \\\n",
       "0                2147           23            51          All Levels   \n",
       "1                2792          923           274          All Levels   \n",
       "2                2174           74            51  Intermediate Level   \n",
       "3                2451           11            36          All Levels   \n",
       "4                1276           45            26  Intermediate Level   \n",
       "...               ...          ...           ...                 ...   \n",
       "3673             1040           14            21          All Levels   \n",
       "3674              306            3            42      Beginner Level   \n",
       "3675              513          169            48          All Levels   \n",
       "3676              300           31            38          All Levels   \n",
       "3677              901           36            20      Beginner Level   \n",
       "\n",
       "      content_duration   published_timestamp           subject  \n",
       "0                  1.5  2017-01-18T20:58:58Z  Business Finance  \n",
       "1                 39.0  2017-03-09T16:34:20Z  Business Finance  \n",
       "2                  2.5  2016-12-19T19:26:30Z  Business Finance  \n",
       "3                  3.0  2017-05-30T20:07:24Z  Business Finance  \n",
       "4                  2.0  2016-12-13T14:57:18Z  Business Finance  \n",
       "...                ...                   ...               ...  \n",
       "3673               2.0  2016-06-14T17:36:46Z   Web Development  \n",
       "3674               3.5  2017-03-10T22:24:30Z   Web Development  \n",
       "3675               3.5  2015-12-30T16:41:42Z   Web Development  \n",
       "3676               3.0  2016-08-11T19:06:15Z   Web Development  \n",
       "3677               2.0  2014-09-28T19:51:11Z   Web Development  \n",
       "\n",
       "[3678 rows x 12 columns]"
      ]
     },
     "execution_count": 18,
     "metadata": {},
     "output_type": "execute_result"
    }
   ],
   "source": [
    "udemy_courses_df"
   ]
  },
  {
   "cell_type": "code",
   "execution_count": 19,
   "metadata": {},
   "outputs": [
    {
     "name": "stdout",
     "output_type": "stream",
     "text": [
      "<class 'pandas.core.frame.DataFrame'>\n",
      "RangeIndex: 3678 entries, 0 to 3677\n",
      "Data columns (total 12 columns):\n",
      " #   Column               Non-Null Count  Dtype  \n",
      "---  ------               --------------  -----  \n",
      " 0   course_id            3678 non-null   int64  \n",
      " 1   course_title         3678 non-null   object \n",
      " 2   url                  3678 non-null   object \n",
      " 3   is_paid              3678 non-null   bool   \n",
      " 4   price                3678 non-null   int64  \n",
      " 5   num_subscribers      3678 non-null   int64  \n",
      " 6   num_reviews          3678 non-null   int64  \n",
      " 7   num_lectures         3678 non-null   int64  \n",
      " 8   level                3678 non-null   object \n",
      " 9   content_duration     3678 non-null   float64\n",
      " 10  published_timestamp  3678 non-null   object \n",
      " 11  subject              3678 non-null   object \n",
      "dtypes: bool(1), float64(1), int64(5), object(5)\n",
      "memory usage: 319.8+ KB\n"
     ]
    }
   ],
   "source": [
    "udemy_courses_df.info()"
   ]
  },
  {
   "cell_type": "code",
   "execution_count": 20,
   "metadata": {},
   "outputs": [
    {
     "data": {
      "text/html": [
       "<div>\n",
       "<style scoped>\n",
       "    .dataframe tbody tr th:only-of-type {\n",
       "        vertical-align: middle;\n",
       "    }\n",
       "\n",
       "    .dataframe tbody tr th {\n",
       "        vertical-align: top;\n",
       "    }\n",
       "\n",
       "    .dataframe thead th {\n",
       "        text-align: right;\n",
       "    }\n",
       "</style>\n",
       "<table border=\"1\" class=\"dataframe\">\n",
       "  <thead>\n",
       "    <tr style=\"text-align: right;\">\n",
       "      <th></th>\n",
       "      <th>course_id</th>\n",
       "      <th>price</th>\n",
       "      <th>num_subscribers</th>\n",
       "      <th>num_reviews</th>\n",
       "      <th>num_lectures</th>\n",
       "      <th>content_duration</th>\n",
       "    </tr>\n",
       "  </thead>\n",
       "  <tbody>\n",
       "    <tr>\n",
       "      <th>count</th>\n",
       "      <td>3.678000e+03</td>\n",
       "      <td>3678.000000</td>\n",
       "      <td>3678.000000</td>\n",
       "      <td>3678.000000</td>\n",
       "      <td>3678.000000</td>\n",
       "      <td>3678.000000</td>\n",
       "    </tr>\n",
       "    <tr>\n",
       "      <th>mean</th>\n",
       "      <td>6.759720e+05</td>\n",
       "      <td>66.049483</td>\n",
       "      <td>3197.150625</td>\n",
       "      <td>156.259108</td>\n",
       "      <td>40.108755</td>\n",
       "      <td>4.094517</td>\n",
       "    </tr>\n",
       "    <tr>\n",
       "      <th>std</th>\n",
       "      <td>3.432732e+05</td>\n",
       "      <td>61.005755</td>\n",
       "      <td>9504.117010</td>\n",
       "      <td>935.452044</td>\n",
       "      <td>50.383346</td>\n",
       "      <td>6.053840</td>\n",
       "    </tr>\n",
       "    <tr>\n",
       "      <th>min</th>\n",
       "      <td>8.324000e+03</td>\n",
       "      <td>0.000000</td>\n",
       "      <td>0.000000</td>\n",
       "      <td>0.000000</td>\n",
       "      <td>0.000000</td>\n",
       "      <td>0.000000</td>\n",
       "    </tr>\n",
       "    <tr>\n",
       "      <th>25%</th>\n",
       "      <td>4.076925e+05</td>\n",
       "      <td>20.000000</td>\n",
       "      <td>111.000000</td>\n",
       "      <td>4.000000</td>\n",
       "      <td>15.000000</td>\n",
       "      <td>1.000000</td>\n",
       "    </tr>\n",
       "    <tr>\n",
       "      <th>50%</th>\n",
       "      <td>6.879170e+05</td>\n",
       "      <td>45.000000</td>\n",
       "      <td>911.500000</td>\n",
       "      <td>18.000000</td>\n",
       "      <td>25.000000</td>\n",
       "      <td>2.000000</td>\n",
       "    </tr>\n",
       "    <tr>\n",
       "      <th>75%</th>\n",
       "      <td>9.613555e+05</td>\n",
       "      <td>95.000000</td>\n",
       "      <td>2546.000000</td>\n",
       "      <td>67.000000</td>\n",
       "      <td>45.750000</td>\n",
       "      <td>4.500000</td>\n",
       "    </tr>\n",
       "    <tr>\n",
       "      <th>max</th>\n",
       "      <td>1.282064e+06</td>\n",
       "      <td>200.000000</td>\n",
       "      <td>268923.000000</td>\n",
       "      <td>27445.000000</td>\n",
       "      <td>779.000000</td>\n",
       "      <td>78.500000</td>\n",
       "    </tr>\n",
       "  </tbody>\n",
       "</table>\n",
       "</div>"
      ],
      "text/plain": [
       "          course_id        price  num_subscribers   num_reviews  num_lectures  \\\n",
       "count  3.678000e+03  3678.000000      3678.000000   3678.000000   3678.000000   \n",
       "mean   6.759720e+05    66.049483      3197.150625    156.259108     40.108755   \n",
       "std    3.432732e+05    61.005755      9504.117010    935.452044     50.383346   \n",
       "min    8.324000e+03     0.000000         0.000000      0.000000      0.000000   \n",
       "25%    4.076925e+05    20.000000       111.000000      4.000000     15.000000   \n",
       "50%    6.879170e+05    45.000000       911.500000     18.000000     25.000000   \n",
       "75%    9.613555e+05    95.000000      2546.000000     67.000000     45.750000   \n",
       "max    1.282064e+06   200.000000    268923.000000  27445.000000    779.000000   \n",
       "\n",
       "       content_duration  \n",
       "count       3678.000000  \n",
       "mean           4.094517  \n",
       "std            6.053840  \n",
       "min            0.000000  \n",
       "25%            1.000000  \n",
       "50%            2.000000  \n",
       "75%            4.500000  \n",
       "max           78.500000  "
      ]
     },
     "execution_count": 20,
     "metadata": {},
     "output_type": "execute_result"
    }
   ],
   "source": [
    "udemy_courses_df.describe()"
   ]
  },
  {
   "cell_type": "code",
   "execution_count": 21,
   "metadata": {},
   "outputs": [
    {
     "data": {
      "text/plain": [
       "course_id              0\n",
       "course_title           0\n",
       "url                    0\n",
       "is_paid                0\n",
       "price                  0\n",
       "num_subscribers        0\n",
       "num_reviews            0\n",
       "num_lectures           0\n",
       "level                  0\n",
       "content_duration       0\n",
       "published_timestamp    0\n",
       "subject                0\n",
       "dtype: int64"
      ]
     },
     "execution_count": 21,
     "metadata": {},
     "output_type": "execute_result"
    }
   ],
   "source": [
    "udemy_courses_df.isnull().sum()"
   ]
  },
  {
   "cell_type": "code",
   "execution_count": 22,
   "metadata": {},
   "outputs": [
    {
     "data": {
      "text/plain": [
       "(3678, 12)"
      ]
     },
     "execution_count": 22,
     "metadata": {},
     "output_type": "execute_result"
    }
   ],
   "source": [
    "udemy_courses_df.shape"
   ]
  },
  {
   "cell_type": "code",
   "execution_count": 23,
   "metadata": {},
   "outputs": [],
   "source": [
    "import jovian"
   ]
  },
  {
   "cell_type": "code",
   "execution_count": 24,
   "metadata": {},
   "outputs": [
    {
     "data": {
      "application/javascript": [
       "window.require && require([\"base/js/namespace\"],function(Jupyter){Jupyter.notebook.save_checkpoint()})"
      ],
      "text/plain": [
       "<IPython.core.display.Javascript object>"
      ]
     },
     "metadata": {},
     "output_type": "display_data"
    },
    {
     "name": "stdout",
     "output_type": "stream",
     "text": [
      "[jovian] Updating notebook \"bkbhaskar25/zero-to-pandas-course-project\" on https://jovian.ai\u001b[0m\n",
      "[jovian] Committed successfully! https://jovian.ai/bkbhaskar25/zero-to-pandas-course-project\u001b[0m\n"
     ]
    },
    {
     "data": {
      "text/plain": [
       "'https://jovian.ai/bkbhaskar25/zero-to-pandas-course-project'"
      ]
     },
     "execution_count": 24,
     "metadata": {},
     "output_type": "execute_result"
    }
   ],
   "source": [
    "jovian.commit()"
   ]
  },
  {
   "cell_type": "markdown",
   "metadata": {},
   "source": [
    "## Exploratory Analysis and Visualization\n",
    "\n",
    "It is graphical representation of data for easy handling, visualization and understanding. Graphs, pie-charts, bar charts, make it easy to represent the data and also it becomes to read, compare and understand it. In this we will see few graphs, charts related to Udemy courses and see them and take the conclusion of it. \n",
    "\n"
   ]
  },
  {
   "cell_type": "markdown",
   "metadata": {},
   "source": [
    "Let's begin by importing`matplotlib.pyplot` and `seaborn`."
   ]
  },
  {
   "cell_type": "code",
   "execution_count": 25,
   "metadata": {},
   "outputs": [],
   "source": [
    "import seaborn as sns\n",
    "import matplotlib\n",
    "import matplotlib.pyplot as plt\n",
    "%matplotlib inline\n",
    "\n",
    "sns.set_style('darkgrid')\n",
    "matplotlib.rcParams['font.size'] = 14\n",
    "matplotlib.rcParams['figure.figsize'] = (9, 5)\n",
    "matplotlib.rcParams['figure.facecolor'] = '#00000000'"
   ]
  },
  {
   "cell_type": "markdown",
   "metadata": {},
   "source": [
    "1. Pie-chart showing the various levels of all subject in Udemy courses. \n"
   ]
  },
  {
   "cell_type": "code",
   "execution_count": 26,
   "metadata": {},
   "outputs": [
    {
     "data": {
      "text/plain": [
       "subject              level             \n",
       "Business Finance     All Levels            696\n",
       "                     Beginner Level        340\n",
       "                     Expert Level           31\n",
       "                     Intermediate Level    128\n",
       "Graphic Design       All Levels            298\n",
       "                     Beginner Level        243\n",
       "                     Expert Level            5\n",
       "                     Intermediate Level     57\n",
       "Musical Instruments  All Levels            276\n",
       "                     Beginner Level        296\n",
       "                     Expert Level            7\n",
       "                     Intermediate Level    101\n",
       "Web Development      All Levels            659\n",
       "                     Beginner Level        391\n",
       "                     Expert Level           15\n",
       "                     Intermediate Level    135\n",
       "Name: course_id, dtype: int64"
      ]
     },
     "execution_count": 26,
     "metadata": {},
     "output_type": "execute_result"
    }
   ],
   "source": [
    "udemy_courses_df.groupby(['subject','level'])['course_id'].count()\n"
   ]
  },
  {
   "cell_type": "code",
   "execution_count": 27,
   "metadata": {},
   "outputs": [
    {
     "data": {
      "image/png": "[encoded data removed]",
      "text/plain": [
       "<Figure size 1656x1296 with 4 Axes>"
      ]
     },
     "metadata": {},
     "output_type": "display_data"
    }
   ],
   "source": [
    "matplotlib.rc('axes', titlesize=23)    \n",
    "matplotlib.rc('font', size=18)         \n",
    "levels = ['All Levels' ,'Intermediate Level' ,'Beginner Level' ,'Expert Level']\n",
    "fig, axes = plt.subplots(2,2, figsize = (23,18))\n",
    "axes[0][0].set_title(\"Business Finance\")\n",
    "no_of_courses = [696,340,31,128] \n",
    "axes[0][0].pie(no_of_courses, labels = levels ,autopct='%1.2f%%')\n",
    "axes[0][1].set_title(\"Graphic Design\")\n",
    "no_of_courses = [298,243,5,57] \n",
    "axes[0][1].pie(no_of_courses, labels = levels ,autopct='%1.2f%%')\n",
    "axes[1][0].set_title(\"Musical Instruments\")\n",
    "no_of_courses = [276,296,7,101] \n",
    "axes[1][0].pie(no_of_courses, labels = levels ,autopct='%1.2f%%')\n",
    "axes[1][1].set_title(\"Web Development\")\n",
    "no_of_courses = [659,391,15,135] \n",
    "axes[1][1].pie(no_of_courses, labels = levels ,autopct='%1.2f%%')\n",
    "plt.show()"
   ]
  },
  {
   "cell_type": "code",
   "execution_count": 28,
   "metadata": {},
   "outputs": [
    {
     "name": "stdout",
     "output_type": "stream",
     "text": [
      "Hence, we can see these pie-charts of different subjects and their various levels.\n"
     ]
    }
   ],
   "source": [
    "print('Hence, we can see these pie-charts of different subjects and their various levels.')"
   ]
  },
  {
   "cell_type": "markdown",
   "metadata": {},
   "source": [
    "2. Bar Chart Demonstrating and Visualizing Free and Paid Courses available in Udemy. \n"
   ]
  },
  {
   "cell_type": "code",
   "execution_count": 29,
   "metadata": {},
   "outputs": [
    {
     "name": "stdout",
     "output_type": "stream",
     "text": [
      "3368 courses are paid and 310 courses are free courses\n"
     ]
    }
   ],
   "source": [
    "paid_course = udemy_courses_df[udemy_courses_df.is_paid == True].shape[0]\n",
    "free_course = udemy_courses_df[udemy_courses_df.is_paid == False].shape[0]\n",
    "print(\"{} courses are paid and {} courses are free courses\".format(paid_course,free_course))"
   ]
  },
  {
   "cell_type": "code",
   "execution_count": 30,
   "metadata": {},
   "outputs": [
    {
     "data": {
      "text/plain": [
       "<BarContainer object of 2 artists>"
      ]
     },
     "execution_count": 30,
     "metadata": {},
     "output_type": "execute_result"
    },
    {
     "data": {
      "image/png": "[encoded data removed]",
      "text/plain": [
       "<Figure size 648x360 with 1 Axes>"
      ]
     },
     "metadata": {
      "needs_background": "light"
     },
     "output_type": "display_data"
    }
   ],
   "source": [
    "x_axis_naming = ['Paid','Free']\n",
    "num_course_data = [paid_course,free_course]\n",
    "plt.title('Visualize paid and Free courses')\n",
    "plt.bar(x_axis_naming, num_course_data)"
   ]
  },
  {
   "cell_type": "code",
   "execution_count": 31,
   "metadata": {},
   "outputs": [
    {
     "name": "stdout",
     "output_type": "stream",
     "text": [
      "Hence, there are 3368 paid courses and 310 free courses in Udemy. \n"
     ]
    }
   ],
   "source": [
    "print('Hence, there are 3368 paid courses and 310 free courses in Udemy. ')"
   ]
  },
  {
   "cell_type": "markdown",
   "metadata": {},
   "source": [
    "3. Graph showing Visual Representation of the data if it has any null values in the datasets."
   ]
  },
  {
   "cell_type": "code",
   "execution_count": 32,
   "metadata": {},
   "outputs": [
    {
     "data": {
      "text/plain": [
       "<AxesSubplot:>"
      ]
     },
     "execution_count": 32,
     "metadata": {},
     "output_type": "execute_result"
    },
    {
     "data": {
      "image/png": "[encoded data removed]",
      "text/plain": [
       "<Figure size 648x360 with 2 Axes>"
      ]
     },
     "metadata": {
      "needs_background": "light"
     },
     "output_type": "display_data"
    }
   ],
   "source": [
    "sns.heatmap(udemy_courses_df.isnull())"
   ]
  },
  {
   "cell_type": "code",
   "execution_count": 33,
   "metadata": {},
   "outputs": [
    {
     "name": "stdout",
     "output_type": "stream",
     "text": [
      "Hence, this is the visual representation of the data.\n"
     ]
    }
   ],
   "source": [
    "print('Hence, this is the visual representation of the data.')"
   ]
  },
  {
   "cell_type": "markdown",
   "metadata": {},
   "source": [
    "4. Bar chart showing Subjects and count order in descending order of courses available."
   ]
  },
  {
   "cell_type": "code",
   "execution_count": 34,
   "metadata": {},
   "outputs": [],
   "source": [
    "x=(udemy_courses_df\n",
    ".groupby(\"subject\")\n",
    " [[\"course_title\"]]\n",
    " .count()\n",
    " .sort_values(\"course_title\", ascending=False)\n",
    ")\n"
   ]
  },
  {
   "cell_type": "code",
   "execution_count": 35,
   "metadata": {},
   "outputs": [
    {
     "data": {
      "text/html": [
       "<div>\n",
       "<style scoped>\n",
       "    .dataframe tbody tr th:only-of-type {\n",
       "        vertical-align: middle;\n",
       "    }\n",
       "\n",
       "    .dataframe tbody tr th {\n",
       "        vertical-align: top;\n",
       "    }\n",
       "\n",
       "    .dataframe thead th {\n",
       "        text-align: right;\n",
       "    }\n",
       "</style>\n",
       "<table border=\"1\" class=\"dataframe\">\n",
       "  <thead>\n",
       "    <tr style=\"text-align: right;\">\n",
       "      <th></th>\n",
       "      <th>course_title</th>\n",
       "    </tr>\n",
       "    <tr>\n",
       "      <th>subject</th>\n",
       "      <th></th>\n",
       "    </tr>\n",
       "  </thead>\n",
       "  <tbody>\n",
       "    <tr>\n",
       "      <th>Web Development</th>\n",
       "      <td>1200</td>\n",
       "    </tr>\n",
       "    <tr>\n",
       "      <th>Business Finance</th>\n",
       "      <td>1195</td>\n",
       "    </tr>\n",
       "    <tr>\n",
       "      <th>Musical Instruments</th>\n",
       "      <td>680</td>\n",
       "    </tr>\n",
       "    <tr>\n",
       "      <th>Graphic Design</th>\n",
       "      <td>603</td>\n",
       "    </tr>\n",
       "  </tbody>\n",
       "</table>\n",
       "</div>"
      ],
      "text/plain": [
       "                     course_title\n",
       "subject                          \n",
       "Web Development              1200\n",
       "Business Finance             1195\n",
       "Musical Instruments           680\n",
       "Graphic Design                603"
      ]
     },
     "execution_count": 35,
     "metadata": {},
     "output_type": "execute_result"
    }
   ],
   "source": [
    "x"
   ]
  },
  {
   "cell_type": "code",
   "execution_count": 36,
   "metadata": {},
   "outputs": [
    {
     "data": {
      "text/plain": [
       "[Text(0, 0, 'Web Development'),\n",
       " Text(1, 0, 'Business Finance'),\n",
       " Text(2, 0, 'Musical Instruments'),\n",
       " Text(3, 0, 'Graphic Design')]"
      ]
     },
     "execution_count": 36,
     "metadata": {},
     "output_type": "execute_result"
    },
    {
     "data": {
      "image/png": "[encoded data removed]",
      "text/plain": [
       "<Figure size 648x360 with 1 Axes>"
      ]
     },
     "metadata": {
      "needs_background": "light"
     },
     "output_type": "display_data"
    }
   ],
   "source": [
    "y=sns.barplot(x=x.index,y=x.course_title,data=x)\n",
    "y.set_xticklabels(y.get_xticklabels(), \n",
    "                          rotation=90, \n",
    "                          horizontalalignment='right')"
   ]
  },
  {
   "cell_type": "code",
   "execution_count": 37,
   "metadata": {},
   "outputs": [
    {
     "name": "stdout",
     "output_type": "stream",
     "text": [
      "Hence, as we can see in this chart, web development has maximum number of courses(1200 courses), while graphic design has the least number of courses(603 courses)\n"
     ]
    }
   ],
   "source": [
    "print('Hence, as we can see in this chart, web development has maximum number of courses(1200 courses), while graphic design has the least number of courses(603 courses)')"
   ]
  },
  {
   "cell_type": "markdown",
   "metadata": {},
   "source": [
    "5. Graph showing number of subscribers of each subject sorted according to price ."
   ]
  },
  {
   "cell_type": "code",
   "execution_count": 39,
   "metadata": {},
   "outputs": [
    {
     "data": {
      "text/html": [
       "<style type=\"text/css\">\n",
       "#T_a67fb_row0_col0, #T_a67fb_row0_col1, #T_a67fb_row0_col2, #T_a67fb_row0_col3 {\n",
       "  background-color: #023858;\n",
       "  color: #f1f1f1;\n",
       "}\n",
       "#T_a67fb_row1_col0 {\n",
       "  background-color: #94b6d7;\n",
       "  color: #000000;\n",
       "}\n",
       "#T_a67fb_row1_col1 {\n",
       "  background-color: #0c74b2;\n",
       "  color: #f1f1f1;\n",
       "}\n",
       "#T_a67fb_row1_col2 {\n",
       "  background-color: #c9cee4;\n",
       "  color: #000000;\n",
       "}\n",
       "#T_a67fb_row1_col3 {\n",
       "  background-color: #b7c5df;\n",
       "  color: #000000;\n",
       "}\n",
       "#T_a67fb_row2_col0, #T_a67fb_row9_col0 {\n",
       "  background-color: #f2ecf5;\n",
       "  color: #000000;\n",
       "}\n",
       "#T_a67fb_row2_col1 {\n",
       "  background-color: #ede7f2;\n",
       "  color: #000000;\n",
       "}\n",
       "#T_a67fb_row2_col2, #T_a67fb_row5_col0, #T_a67fb_row6_col1, #T_a67fb_row9_col3, #T_a67fb_row12_col2, #T_a67fb_row22_col0, #T_a67fb_row33_col0 {\n",
       "  background-color: #f9f2f8;\n",
       "  color: #000000;\n",
       "}\n",
       "#T_a67fb_row2_col3, #T_a67fb_row9_col2, #T_a67fb_row10_col1, #T_a67fb_row11_col2 {\n",
       "  background-color: #fbf3f9;\n",
       "  color: #000000;\n",
       "}\n",
       "#T_a67fb_row3_col0 {\n",
       "  background-color: #f1ebf4;\n",
       "  color: #000000;\n",
       "}\n",
       "#T_a67fb_row3_col1 {\n",
       "  background-color: #eee9f3;\n",
       "  color: #000000;\n",
       "}\n",
       "#T_a67fb_row3_col2, #T_a67fb_row13_col3 {\n",
       "  background-color: #faf2f8;\n",
       "  color: #000000;\n",
       "}\n",
       "#T_a67fb_row3_col3 {\n",
       "  background-color: #f4edf6;\n",
       "  color: #000000;\n",
       "}\n",
       "#T_a67fb_row4_col0, #T_a67fb_row18_col0, #T_a67fb_row18_col1, #T_a67fb_row20_col2, #T_a67fb_row21_col0, #T_a67fb_row33_col3, #T_a67fb_row34_col0 {\n",
       "  background-color: #fcf4fa;\n",
       "  color: #000000;\n",
       "}\n",
       "#T_a67fb_row4_col1, #T_a67fb_row12_col1, #T_a67fb_row17_col2, #T_a67fb_row35_col3 {\n",
       "  background-color: #f7f0f7;\n",
       "  color: #000000;\n",
       "}\n",
       "#T_a67fb_row4_col2, #T_a67fb_row4_col3, #T_a67fb_row5_col1, #T_a67fb_row26_col3 {\n",
       "  background-color: #faf3f9;\n",
       "  color: #000000;\n",
       "}\n",
       "#T_a67fb_row5_col2, #T_a67fb_row6_col0, #T_a67fb_row6_col2, #T_a67fb_row12_col0, #T_a67fb_row17_col0, #T_a67fb_row33_col1 {\n",
       "  background-color: #f8f1f8;\n",
       "  color: #000000;\n",
       "}\n",
       "#T_a67fb_row5_col3, #T_a67fb_row16_col2, #T_a67fb_row21_col3 {\n",
       "  background-color: #f6eff7;\n",
       "  color: #000000;\n",
       "}\n",
       "#T_a67fb_row6_col3, #T_a67fb_row8_col1, #T_a67fb_row8_col3, #T_a67fb_row10_col2, #T_a67fb_row10_col3, #T_a67fb_row11_col3, #T_a67fb_row14_col2, #T_a67fb_row15_col1, #T_a67fb_row15_col3, #T_a67fb_row19_col3, #T_a67fb_row20_col0, #T_a67fb_row25_col3, #T_a67fb_row26_col0, #T_a67fb_row27_col2, #T_a67fb_row28_col0 {\n",
       "  background-color: #fdf5fa;\n",
       "  color: #000000;\n",
       "}\n",
       "#T_a67fb_row7_col0 {\n",
       "  background-color: #dfddec;\n",
       "  color: #000000;\n",
       "}\n",
       "#T_a67fb_row7_col1 {\n",
       "  background-color: #ece7f2;\n",
       "  color: #000000;\n",
       "}\n",
       "#T_a67fb_row7_col2 {\n",
       "  background-color: #acc0dd;\n",
       "  color: #000000;\n",
       "}\n",
       "#T_a67fb_row7_col3 {\n",
       "  background-color: #dddbec;\n",
       "  color: #000000;\n",
       "}\n",
       "#T_a67fb_row8_col0, #T_a67fb_row9_col1, #T_a67fb_row11_col0, #T_a67fb_row13_col1, #T_a67fb_row14_col0, #T_a67fb_row14_col1, #T_a67fb_row15_col2, #T_a67fb_row18_col2, #T_a67fb_row18_col3, #T_a67fb_row19_col0, #T_a67fb_row20_col1, #T_a67fb_row21_col1, #T_a67fb_row23_col0, #T_a67fb_row23_col2, #T_a67fb_row24_col0, #T_a67fb_row24_col1, #T_a67fb_row24_col2, #T_a67fb_row25_col1, #T_a67fb_row29_col3, #T_a67fb_row30_col0, #T_a67fb_row30_col3, #T_a67fb_row31_col0, #T_a67fb_row31_col2, #T_a67fb_row32_col1, #T_a67fb_row32_col2, #T_a67fb_row33_col2, #T_a67fb_row34_col3, #T_a67fb_row35_col1, #T_a67fb_row36_col2 {\n",
       "  background-color: #fff7fb;\n",
       "  color: #000000;\n",
       "}\n",
       "#T_a67fb_row8_col2 {\n",
       "  background-color: #fbf4f9;\n",
       "  color: #000000;\n",
       "}\n",
       "#T_a67fb_row10_col0, #T_a67fb_row11_col1, #T_a67fb_row13_col0, #T_a67fb_row20_col3, #T_a67fb_row22_col1, #T_a67fb_row22_col2, #T_a67fb_row22_col3, #T_a67fb_row24_col3, #T_a67fb_row25_col0, #T_a67fb_row28_col1, #T_a67fb_row31_col3, #T_a67fb_row32_col0, #T_a67fb_row34_col1, #T_a67fb_row35_col0 {\n",
       "  background-color: #fef6fb;\n",
       "  color: #000000;\n",
       "}\n",
       "#T_a67fb_row12_col3 {\n",
       "  background-color: #e7e3f0;\n",
       "  color: #000000;\n",
       "}\n",
       "#T_a67fb_row13_col2, #T_a67fb_row14_col3, #T_a67fb_row15_col0, #T_a67fb_row21_col2, #T_a67fb_row26_col1, #T_a67fb_row29_col0, #T_a67fb_row30_col1 {\n",
       "  background-color: #fef6fa;\n",
       "  color: #000000;\n",
       "}\n",
       "#T_a67fb_row16_col0, #T_a67fb_row16_col1 {\n",
       "  background-color: #e6e2ef;\n",
       "  color: #000000;\n",
       "}\n",
       "#T_a67fb_row16_col3, #T_a67fb_row17_col1 {\n",
       "  background-color: #f3edf5;\n",
       "  color: #000000;\n",
       "}\n",
       "#T_a67fb_row17_col3 {\n",
       "  background-color: #e8e4f0;\n",
       "  color: #000000;\n",
       "}\n",
       "#T_a67fb_row19_col1, #T_a67fb_row19_col2, #T_a67fb_row23_col1, #T_a67fb_row23_col3, #T_a67fb_row25_col2, #T_a67fb_row28_col2, #T_a67fb_row28_col3, #T_a67fb_row29_col1, #T_a67fb_row29_col2, #T_a67fb_row30_col2, #T_a67fb_row31_col1, #T_a67fb_row34_col2, #T_a67fb_row35_col2 {\n",
       "  background-color: #000000;\n",
       "  color: #f1f1f1;\n",
       "}\n",
       "#T_a67fb_row26_col2 {\n",
       "  background-color: #eee8f3;\n",
       "  color: #000000;\n",
       "}\n",
       "#T_a67fb_row27_col0 {\n",
       "  background-color: #ede8f3;\n",
       "  color: #000000;\n",
       "}\n",
       "#T_a67fb_row27_col1 {\n",
       "  background-color: #e4e1ef;\n",
       "  color: #000000;\n",
       "}\n",
       "#T_a67fb_row27_col3, #T_a67fb_row36_col1 {\n",
       "  background-color: #efe9f3;\n",
       "  color: #000000;\n",
       "}\n",
       "#T_a67fb_row32_col3 {\n",
       "  background-color: #f5eef6;\n",
       "  color: #000000;\n",
       "}\n",
       "#T_a67fb_row36_col0 {\n",
       "  background-color: #dedcec;\n",
       "  color: #000000;\n",
       "}\n",
       "#T_a67fb_row36_col3 {\n",
       "  background-color: #b4c4df;\n",
       "  color: #000000;\n",
       "}\n",
       "#T_a67fb_row37_col0 {\n",
       "  background-color: #c0c9e2;\n",
       "  color: #000000;\n",
       "}\n",
       "#T_a67fb_row37_col1 {\n",
       "  background-color: #2987bc;\n",
       "  color: #f1f1f1;\n",
       "}\n",
       "#T_a67fb_row37_col2 {\n",
       "  background-color: #79abd0;\n",
       "  color: #f1f1f1;\n",
       "}\n",
       "#T_a67fb_row37_col3 {\n",
       "  background-color: #b1c2de;\n",
       "  color: #000000;\n",
       "}\n",
       "</style>\n",
       "<table id=\"T_a67fb_\">\n",
       "  <thead>\n",
       "    <tr>\n",
       "      <th class=\"index_name level0\" >subject</th>\n",
       "      <th class=\"col_heading level0 col0\" >Business Finance</th>\n",
       "      <th class=\"col_heading level0 col1\" >Graphic Design</th>\n",
       "      <th class=\"col_heading level0 col2\" >Musical Instruments</th>\n",
       "      <th class=\"col_heading level0 col3\" >Web Development</th>\n",
       "    </tr>\n",
       "    <tr>\n",
       "      <th class=\"index_name level0\" >price</th>\n",
       "      <th class=\"blank col0\" >&nbsp;</th>\n",
       "      <th class=\"blank col1\" >&nbsp;</th>\n",
       "      <th class=\"blank col2\" >&nbsp;</th>\n",
       "      <th class=\"blank col3\" >&nbsp;</th>\n",
       "    </tr>\n",
       "  </thead>\n",
       "  <tbody>\n",
       "    <tr>\n",
       "      <th id=\"T_a67fb_level0_row0\" class=\"row_heading level0 row0\" >0</th>\n",
       "      <td id=\"T_a67fb_row0_col0\" class=\"data row0 col0\" >603228.000000</td>\n",
       "      <td id=\"T_a67fb_row0_col1\" class=\"data row0 col1\" >284821.000000</td>\n",
       "      <td id=\"T_a67fb_row0_col2\" class=\"data row0 col2\" >304735.000000</td>\n",
       "      <td id=\"T_a67fb_row0_col3\" class=\"data row0 col3\" >2382741.000000</td>\n",
       "    </tr>\n",
       "    <tr>\n",
       "      <th id=\"T_a67fb_level0_row1\" class=\"row_heading level0 row1\" >20</th>\n",
       "      <td id=\"T_a67fb_row1_col0\" class=\"data row1 col0\" >253653.000000</td>\n",
       "      <td id=\"T_a67fb_row1_col1\" class=\"data row1 col1\" >208753.000000</td>\n",
       "      <td id=\"T_a67fb_row1_col2\" class=\"data row1 col2\" >82937.000000</td>\n",
       "      <td id=\"T_a67fb_row1_col3\" class=\"data row1 col3\" >775315.000000</td>\n",
       "    </tr>\n",
       "    <tr>\n",
       "      <th id=\"T_a67fb_level0_row2\" class=\"row_heading level0 row2\" >25</th>\n",
       "      <td id=\"T_a67fb_row2_col0\" class=\"data row2 col0\" >54100.000000</td>\n",
       "      <td id=\"T_a67fb_row2_col1\" class=\"data row2 col1\" >36357.000000</td>\n",
       "      <td id=\"T_a67fb_row2_col2\" class=\"data row2 col2\" >12015.000000</td>\n",
       "      <td id=\"T_a67fb_row2_col3\" class=\"data row2 col3\" >68389.000000</td>\n",
       "    </tr>\n",
       "    <tr>\n",
       "      <th id=\"T_a67fb_level0_row3\" class=\"row_heading level0 row3\" >30</th>\n",
       "      <td id=\"T_a67fb_row3_col0\" class=\"data row3 col0\" >56952.000000</td>\n",
       "      <td id=\"T_a67fb_row3_col1\" class=\"data row3 col1\" >32408.000000</td>\n",
       "      <td id=\"T_a67fb_row3_col2\" class=\"data row3 col2\" >10751.000000</td>\n",
       "      <td id=\"T_a67fb_row3_col3\" class=\"data row3 col3\" >186603.000000</td>\n",
       "    </tr>\n",
       "    <tr>\n",
       "      <th id=\"T_a67fb_level0_row4\" class=\"row_heading level0 row4\" >35</th>\n",
       "      <td id=\"T_a67fb_row4_col0\" class=\"data row4 col0\" >13123.000000</td>\n",
       "      <td id=\"T_a67fb_row4_col1\" class=\"data row4 col1\" >16923.000000</td>\n",
       "      <td id=\"T_a67fb_row4_col2\" class=\"data row4 col2\" >9930.000000</td>\n",
       "      <td id=\"T_a67fb_row4_col3\" class=\"data row4 col3\" >76324.000000</td>\n",
       "    </tr>\n",
       "    <tr>\n",
       "      <th id=\"T_a67fb_level0_row5\" class=\"row_heading level0 row5\" >40</th>\n",
       "      <td id=\"T_a67fb_row5_col0\" class=\"data row5 col0\" >25834.000000</td>\n",
       "      <td id=\"T_a67fb_row5_col1\" class=\"data row5 col1\" >10477.000000</td>\n",
       "      <td id=\"T_a67fb_row5_col2\" class=\"data row5 col2\" >15136.000000</td>\n",
       "      <td id=\"T_a67fb_row5_col3\" class=\"data row5 col3\" >148770.000000</td>\n",
       "    </tr>\n",
       "    <tr>\n",
       "      <th id=\"T_a67fb_level0_row6\" class=\"row_heading level0 row6\" >45</th>\n",
       "      <td id=\"T_a67fb_row6_col0\" class=\"data row6 col0\" >29156.000000</td>\n",
       "      <td id=\"T_a67fb_row6_col1\" class=\"data row6 col1\" >12952.000000</td>\n",
       "      <td id=\"T_a67fb_row6_col2\" class=\"data row6 col2\" >15248.000000</td>\n",
       "      <td id=\"T_a67fb_row6_col3\" class=\"data row6 col3\" >41655.000000</td>\n",
       "    </tr>\n",
       "    <tr>\n",
       "      <th id=\"T_a67fb_level0_row7\" class=\"row_heading level0 row7\" >50</th>\n",
       "      <td id=\"T_a67fb_row7_col0\" class=\"data row7 col0\" >112229.000000</td>\n",
       "      <td id=\"T_a67fb_row7_col1\" class=\"data row7 col1\" >36781.000000</td>\n",
       "      <td id=\"T_a67fb_row7_col2\" class=\"data row7 col2\" >108845.000000</td>\n",
       "      <td id=\"T_a67fb_row7_col3\" class=\"data row7 col3\" >459528.000000</td>\n",
       "    </tr>\n",
       "    <tr>\n",
       "      <th id=\"T_a67fb_level0_row8\" class=\"row_heading level0 row8\" >55</th>\n",
       "      <td id=\"T_a67fb_row8_col0\" class=\"data row8 col0\" >2257.000000</td>\n",
       "      <td id=\"T_a67fb_row8_col1\" class=\"data row8 col1\" >5291.000000</td>\n",
       "      <td id=\"T_a67fb_row8_col2\" class=\"data row8 col2\" >7827.000000</td>\n",
       "      <td id=\"T_a67fb_row8_col3\" class=\"data row8 col3\" >32186.000000</td>\n",
       "    </tr>\n",
       "    <tr>\n",
       "      <th id=\"T_a67fb_level0_row9\" class=\"row_heading level0 row9\" >60</th>\n",
       "      <td id=\"T_a67fb_row9_col0\" class=\"data row9 col0\" >51081.000000</td>\n",
       "      <td id=\"T_a67fb_row9_col1\" class=\"data row9 col1\" >1639.000000</td>\n",
       "      <td id=\"T_a67fb_row9_col2\" class=\"data row9 col2\" >9112.000000</td>\n",
       "      <td id=\"T_a67fb_row9_col3\" class=\"data row9 col3\" >95319.000000</td>\n",
       "    </tr>\n",
       "    <tr>\n",
       "      <th id=\"T_a67fb_level0_row10\" class=\"row_heading level0 row10\" >65</th>\n",
       "      <td id=\"T_a67fb_row10_col0\" class=\"data row10 col0\" >2988.000000</td>\n",
       "      <td id=\"T_a67fb_row10_col1\" class=\"data row10 col1\" >9060.000000</td>\n",
       "      <td id=\"T_a67fb_row10_col2\" class=\"data row10 col2\" >5730.000000</td>\n",
       "      <td id=\"T_a67fb_row10_col3\" class=\"data row10 col3\" >43503.000000</td>\n",
       "    </tr>\n",
       "    <tr>\n",
       "      <th id=\"T_a67fb_level0_row11\" class=\"row_heading level0 row11\" >70</th>\n",
       "      <td id=\"T_a67fb_row11_col0\" class=\"data row11 col0\" >1742.000000</td>\n",
       "      <td id=\"T_a67fb_row11_col1\" class=\"data row11 col1\" >2922.000000</td>\n",
       "      <td id=\"T_a67fb_row11_col2\" class=\"data row11 col2\" >8509.000000</td>\n",
       "      <td id=\"T_a67fb_row11_col3\" class=\"data row11 col3\" >33618.000000</td>\n",
       "    </tr>\n",
       "    <tr>\n",
       "      <th id=\"T_a67fb_level0_row12\" class=\"row_heading level0 row12\" >75</th>\n",
       "      <td id=\"T_a67fb_row12_col0\" class=\"data row12 col0\" >27587.000000</td>\n",
       "      <td id=\"T_a67fb_row12_col1\" class=\"data row12 col1\" >16782.000000</td>\n",
       "      <td id=\"T_a67fb_row12_col2\" class=\"data row12 col2\" >12525.000000</td>\n",
       "      <td id=\"T_a67fb_row12_col3\" class=\"data row12 col3\" >353272.000000</td>\n",
       "    </tr>\n",
       "    <tr>\n",
       "      <th id=\"T_a67fb_level0_row13\" class=\"row_heading level0 row13\" >80</th>\n",
       "      <td id=\"T_a67fb_row13_col0\" class=\"data row13 col0\" >4260.000000</td>\n",
       "      <td id=\"T_a67fb_row13_col1\" class=\"data row13 col1\" >1808.000000</td>\n",
       "      <td id=\"T_a67fb_row13_col2\" class=\"data row13 col2\" >3276.000000</td>\n",
       "      <td id=\"T_a67fb_row13_col3\" class=\"data row13 col3\" >90863.000000</td>\n",
       "    </tr>\n",
       "    <tr>\n",
       "      <th id=\"T_a67fb_level0_row14\" class=\"row_heading level0 row14\" >85</th>\n",
       "      <td id=\"T_a67fb_row14_col0\" class=\"data row14 col0\" >881.000000</td>\n",
       "      <td id=\"T_a67fb_row14_col1\" class=\"data row14 col1\" >1695.000000</td>\n",
       "      <td id=\"T_a67fb_row14_col2\" class=\"data row14 col2\" >4719.000000</td>\n",
       "      <td id=\"T_a67fb_row14_col3\" class=\"data row14 col3\" >21511.000000</td>\n",
       "    </tr>\n",
       "    <tr>\n",
       "      <th id=\"T_a67fb_level0_row15\" class=\"row_heading level0 row15\" >90</th>\n",
       "      <td id=\"T_a67fb_row15_col0\" class=\"data row15 col0\" >7063.000000</td>\n",
       "      <td id=\"T_a67fb_row15_col1\" class=\"data row15 col1\" >4876.000000</td>\n",
       "      <td id=\"T_a67fb_row15_col2\" class=\"data row15 col2\" >85.000000</td>\n",
       "      <td id=\"T_a67fb_row15_col3\" class=\"data row15 col3\" >29561.000000</td>\n",
       "    </tr>\n",
       "    <tr>\n",
       "      <th id=\"T_a67fb_level0_row16\" class=\"row_heading level0 row16\" >95</th>\n",
       "      <td id=\"T_a67fb_row16_col0\" class=\"data row16 col0\" >93211.000000</td>\n",
       "      <td id=\"T_a67fb_row16_col1\" class=\"data row16 col1\" >44364.000000</td>\n",
       "      <td id=\"T_a67fb_row16_col2\" class=\"data row16 col2\" >18362.000000</td>\n",
       "      <td id=\"T_a67fb_row16_col3\" class=\"data row16 col3\" >192012.000000</td>\n",
       "    </tr>\n",
       "    <tr>\n",
       "      <th id=\"T_a67fb_level0_row17\" class=\"row_heading level0 row17\" >100</th>\n",
       "      <td id=\"T_a67fb_row17_col0\" class=\"data row17 col0\" >27431.000000</td>\n",
       "      <td id=\"T_a67fb_row17_col1\" class=\"data row17 col1\" >23350.000000</td>\n",
       "      <td id=\"T_a67fb_row17_col2\" class=\"data row17 col2\" >16667.000000</td>\n",
       "      <td id=\"T_a67fb_row17_col3\" class=\"data row17 col3\" >343043.000000</td>\n",
       "    </tr>\n",
       "    <tr>\n",
       "      <th id=\"T_a67fb_level0_row18\" class=\"row_heading level0 row18\" >105</th>\n",
       "      <td id=\"T_a67fb_row18_col0\" class=\"data row18 col0\" >12553.000000</td>\n",
       "      <td id=\"T_a67fb_row18_col1\" class=\"data row18 col1\" >7057.000000</td>\n",
       "      <td id=\"T_a67fb_row18_col2\" class=\"data row18 col2\" >31.000000</td>\n",
       "      <td id=\"T_a67fb_row18_col3\" class=\"data row18 col3\" >1972.000000</td>\n",
       "    </tr>\n",
       "    <tr>\n",
       "      <th id=\"T_a67fb_level0_row19\" class=\"row_heading level0 row19\" >110</th>\n",
       "      <td id=\"T_a67fb_row19_col0\" class=\"data row19 col0\" >26.000000</td>\n",
       "      <td id=\"T_a67fb_row19_col1\" class=\"data row19 col1\" >nan</td>\n",
       "      <td id=\"T_a67fb_row19_col2\" class=\"data row19 col2\" >nan</td>\n",
       "      <td id=\"T_a67fb_row19_col3\" class=\"data row19 col3\" >37318.000000</td>\n",
       "    </tr>\n",
       "    <tr>\n",
       "      <th id=\"T_a67fb_level0_row20\" class=\"row_heading level0 row20\" >115</th>\n",
       "      <td id=\"T_a67fb_row20_col0\" class=\"data row20 col0\" >9517.000000</td>\n",
       "      <td id=\"T_a67fb_row20_col1\" class=\"data row20 col1\" >1087.000000</td>\n",
       "      <td id=\"T_a67fb_row20_col2\" class=\"data row20 col2\" >6026.000000</td>\n",
       "      <td id=\"T_a67fb_row20_col3\" class=\"data row20 col3\" >17867.000000</td>\n",
       "    </tr>\n",
       "    <tr>\n",
       "      <th id=\"T_a67fb_level0_row21\" class=\"row_heading level0 row21\" >120</th>\n",
       "      <td id=\"T_a67fb_row21_col0\" class=\"data row21 col0\" >13737.000000</td>\n",
       "      <td id=\"T_a67fb_row21_col1\" class=\"data row21 col1\" >1263.000000</td>\n",
       "      <td id=\"T_a67fb_row21_col2\" class=\"data row21 col2\" >3096.000000</td>\n",
       "      <td id=\"T_a67fb_row21_col3\" class=\"data row21 col3\" >149356.000000</td>\n",
       "    </tr>\n",
       "    <tr>\n",
       "      <th id=\"T_a67fb_level0_row22\" class=\"row_heading level0 row22\" >125</th>\n",
       "      <td id=\"T_a67fb_row22_col0\" class=\"data row22 col0\" >24610.000000</td>\n",
       "      <td id=\"T_a67fb_row22_col1\" class=\"data row22 col1\" >3026.000000</td>\n",
       "      <td id=\"T_a67fb_row22_col2\" class=\"data row22 col2\" >1284.000000</td>\n",
       "      <td id=\"T_a67fb_row22_col3\" class=\"data row22 col3\" >19337.000000</td>\n",
       "    </tr>\n",
       "    <tr>\n",
       "      <th id=\"T_a67fb_level0_row23\" class=\"row_heading level0 row23\" >130</th>\n",
       "      <td id=\"T_a67fb_row23_col0\" class=\"data row23 col0\" >964.000000</td>\n",
       "      <td id=\"T_a67fb_row23_col1\" class=\"data row23 col1\" >nan</td>\n",
       "      <td id=\"T_a67fb_row23_col2\" class=\"data row23 col2\" >0.000000</td>\n",
       "      <td id=\"T_a67fb_row23_col3\" class=\"data row23 col3\" >nan</td>\n",
       "    </tr>\n",
       "    <tr>\n",
       "      <th id=\"T_a67fb_level0_row24\" class=\"row_heading level0 row24\" >135</th>\n",
       "      <td id=\"T_a67fb_row24_col0\" class=\"data row24 col0\" >313.000000</td>\n",
       "      <td id=\"T_a67fb_row24_col1\" class=\"data row24 col1\" >1530.000000</td>\n",
       "      <td id=\"T_a67fb_row24_col2\" class=\"data row24 col2\" >2.000000</td>\n",
       "      <td id=\"T_a67fb_row24_col3\" class=\"data row24 col3\" >15064.000000</td>\n",
       "    </tr>\n",
       "    <tr>\n",
       "      <th id=\"T_a67fb_level0_row25\" class=\"row_heading level0 row25\" >140</th>\n",
       "      <td id=\"T_a67fb_row25_col0\" class=\"data row25 col0\" >3335.000000</td>\n",
       "      <td id=\"T_a67fb_row25_col1\" class=\"data row25 col1\" >896.000000</td>\n",
       "      <td id=\"T_a67fb_row25_col2\" class=\"data row25 col2\" >nan</td>\n",
       "      <td id=\"T_a67fb_row25_col3\" class=\"data row25 col3\" >40938.000000</td>\n",
       "    </tr>\n",
       "    <tr>\n",
       "      <th id=\"T_a67fb_level0_row26\" class=\"row_heading level0 row26\" >145</th>\n",
       "      <td id=\"T_a67fb_row26_col0\" class=\"data row26 col0\" >9209.000000</td>\n",
       "      <td id=\"T_a67fb_row26_col1\" class=\"data row26 col1\" >4112.000000</td>\n",
       "      <td id=\"T_a67fb_row26_col2\" class=\"data row26 col2\" >34922.000000</td>\n",
       "      <td id=\"T_a67fb_row26_col3\" class=\"data row26 col3\" >75875.000000</td>\n",
       "    </tr>\n",
       "    <tr>\n",
       "      <th id=\"T_a67fb_level0_row27\" class=\"row_heading level0 row27\" >150</th>\n",
       "      <td id=\"T_a67fb_row27_col0\" class=\"data row27 col0\" >70744.000000</td>\n",
       "      <td id=\"T_a67fb_row27_col1\" class=\"data row27 col1\" >46541.000000</td>\n",
       "      <td id=\"T_a67fb_row27_col2\" class=\"data row27 col2\" >4389.000000</td>\n",
       "      <td id=\"T_a67fb_row27_col3\" class=\"data row27 col3\" >254528.000000</td>\n",
       "    </tr>\n",
       "    <tr>\n",
       "      <th id=\"T_a67fb_level0_row28\" class=\"row_heading level0 row28\" >155</th>\n",
       "      <td id=\"T_a67fb_row28_col0\" class=\"data row28 col0\" >9445.000000</td>\n",
       "      <td id=\"T_a67fb_row28_col1\" class=\"data row28 col1\" >2911.000000</td>\n",
       "      <td id=\"T_a67fb_row28_col2\" class=\"data row28 col2\" >nan</td>\n",
       "      <td id=\"T_a67fb_row28_col3\" class=\"data row28 col3\" >nan</td>\n",
       "    </tr>\n",
       "    <tr>\n",
       "      <th id=\"T_a67fb_level0_row29\" class=\"row_heading level0 row29\" >160</th>\n",
       "      <td id=\"T_a67fb_row29_col0\" class=\"data row29 col0\" >6631.000000</td>\n",
       "      <td id=\"T_a67fb_row29_col1\" class=\"data row29 col1\" >nan</td>\n",
       "      <td id=\"T_a67fb_row29_col2\" class=\"data row29 col2\" >nan</td>\n",
       "      <td id=\"T_a67fb_row29_col3\" class=\"data row29 col3\" >2273.000000</td>\n",
       "    </tr>\n",
       "    <tr>\n",
       "      <th id=\"T_a67fb_level0_row30\" class=\"row_heading level0 row30\" >165</th>\n",
       "      <td id=\"T_a67fb_row30_col0\" class=\"data row30 col0\" >431.000000</td>\n",
       "      <td id=\"T_a67fb_row30_col1\" class=\"data row30 col1\" >3804.000000</td>\n",
       "      <td id=\"T_a67fb_row30_col2\" class=\"data row30 col2\" >nan</td>\n",
       "      <td id=\"T_a67fb_row30_col3\" class=\"data row30 col3\" >9142.000000</td>\n",
       "    </tr>\n",
       "    <tr>\n",
       "      <th id=\"T_a67fb_level0_row31\" class=\"row_heading level0 row31\" >170</th>\n",
       "      <td id=\"T_a67fb_row31_col0\" class=\"data row31 col0\" >2148.000000</td>\n",
       "      <td id=\"T_a67fb_row31_col1\" class=\"data row31 col1\" >nan</td>\n",
       "      <td id=\"T_a67fb_row31_col2\" class=\"data row31 col2\" >245.000000</td>\n",
       "      <td id=\"T_a67fb_row31_col3\" class=\"data row31 col3\" >17957.000000</td>\n",
       "    </tr>\n",
       "    <tr>\n",
       "      <th id=\"T_a67fb_level0_row32\" class=\"row_heading level0 row32\" >175</th>\n",
       "      <td id=\"T_a67fb_row32_col0\" class=\"data row32 col0\" >4008.000000</td>\n",
       "      <td id=\"T_a67fb_row32_col1\" class=\"data row32 col1\" >1197.000000</td>\n",
       "      <td id=\"T_a67fb_row32_col2\" class=\"data row32 col2\" >416.000000</td>\n",
       "      <td id=\"T_a67fb_row32_col3\" class=\"data row32 col3\" >162054.000000</td>\n",
       "    </tr>\n",
       "    <tr>\n",
       "      <th id=\"T_a67fb_level0_row33\" class=\"row_heading level0 row33\" >180</th>\n",
       "      <td id=\"T_a67fb_row33_col0\" class=\"data row33 col0\" >23636.000000</td>\n",
       "      <td id=\"T_a67fb_row33_col1\" class=\"data row33 col1\" >15103.000000</td>\n",
       "      <td id=\"T_a67fb_row33_col2\" class=\"data row33 col2\" >199.000000</td>\n",
       "      <td id=\"T_a67fb_row33_col3\" class=\"data row33 col3\" >51428.000000</td>\n",
       "    </tr>\n",
       "    <tr>\n",
       "      <th id=\"T_a67fb_level0_row34\" class=\"row_heading level0 row34\" >185</th>\n",
       "      <td id=\"T_a67fb_row34_col0\" class=\"data row34 col0\" >13469.000000</td>\n",
       "      <td id=\"T_a67fb_row34_col1\" class=\"data row34 col1\" >2523.000000</td>\n",
       "      <td id=\"T_a67fb_row34_col2\" class=\"data row34 col2\" >nan</td>\n",
       "      <td id=\"T_a67fb_row34_col3\" class=\"data row34 col3\" >894.000000</td>\n",
       "    </tr>\n",
       "    <tr>\n",
       "      <th id=\"T_a67fb_level0_row35\" class=\"row_heading level0 row35\" >190</th>\n",
       "      <td id=\"T_a67fb_row35_col0\" class=\"data row35 col0\" >3264.000000</td>\n",
       "      <td id=\"T_a67fb_row35_col1\" class=\"data row35 col1\" >1552.000000</td>\n",
       "      <td id=\"T_a67fb_row35_col2\" class=\"data row35 col2\" >nan</td>\n",
       "      <td id=\"T_a67fb_row35_col3\" class=\"data row35 col3\" >137623.000000</td>\n",
       "    </tr>\n",
       "    <tr>\n",
       "      <th id=\"T_a67fb_level0_row36\" class=\"row_heading level0 row36\" >195</th>\n",
       "      <td id=\"T_a67fb_row36_col0\" class=\"data row36 col0\" >113617.000000</td>\n",
       "      <td id=\"T_a67fb_row36_col1\" class=\"data row36 col1\" >31199.000000</td>\n",
       "      <td id=\"T_a67fb_row36_col2\" class=\"data row36 col2\" >1086.000000</td>\n",
       "      <td id=\"T_a67fb_row36_col3\" class=\"data row36 col3\" >793352.000000</td>\n",
       "    </tr>\n",
       "    <tr>\n",
       "      <th id=\"T_a67fb_level0_row37\" class=\"row_heading level0 row37\" >200</th>\n",
       "      <td id=\"T_a67fb_row37_col0\" class=\"data row37 col0\" >180278.000000</td>\n",
       "      <td id=\"T_a67fb_row37_col1\" class=\"data row37 col1\" >188088.000000</td>\n",
       "      <td id=\"T_a67fb_row37_col2\" class=\"data row37 col2\" >148584.000000</td>\n",
       "      <td id=\"T_a67fb_row37_col3\" class=\"data row37 col3\" >819381.000000</td>\n",
       "    </tr>\n",
       "  </tbody>\n",
       "</table>\n"
      ],
      "text/plain": [
       "<pandas.io.formats.style.Styler at 0x7feea5c07ac0>"
      ]
     },
     "execution_count": 39,
     "metadata": {},
     "output_type": "execute_result"
    }
   ],
   "source": [
    "udemy_courses_df.pivot_table(values=\"num_subscribers\",index=\"price\", columns=\"subject\", aggfunc=\"sum\").style.background_gradient()"
   ]
  },
  {
   "cell_type": "code",
   "execution_count": 40,
   "metadata": {},
   "outputs": [
    {
     "name": "stdout",
     "output_type": "stream",
     "text": [
      "Hence, we can see that in each subject, most of the subscribers are for free courses.\n"
     ]
    }
   ],
   "source": [
    "print('Hence, we can see that in each subject, most of the subscribers are for free courses.')"
   ]
  },
  {
   "cell_type": "code",
   "execution_count": 41,
   "metadata": {},
   "outputs": [],
   "source": [
    "import jovian"
   ]
  },
  {
   "cell_type": "code",
   "execution_count": 42,
   "metadata": {},
   "outputs": [
    {
     "data": {
      "application/javascript": [
       "window.require && require([\"base/js/namespace\"],function(Jupyter){Jupyter.notebook.save_checkpoint()})"
      ],
      "text/plain": [
       "<IPython.core.display.Javascript object>"
      ]
     },
     "metadata": {},
     "output_type": "display_data"
    },
    {
     "name": "stdout",
     "output_type": "stream",
     "text": [
      "[jovian] Updating notebook \"bkbhaskar25/zero-to-pandas-course-project\" on https://jovian.ai\u001b[0m\n",
      "[jovian] Committed successfully! https://jovian.ai/bkbhaskar25/zero-to-pandas-course-project\u001b[0m\n"
     ]
    },
    {
     "data": {
      "text/plain": [
       "'https://jovian.ai/bkbhaskar25/zero-to-pandas-course-project'"
      ]
     },
     "execution_count": 42,
     "metadata": {},
     "output_type": "execute_result"
    }
   ],
   "source": [
    "jovian.commit()"
   ]
  },
  {
   "cell_type": "markdown",
   "metadata": {},
   "source": [
    "## Asking and Answering Questions\n",
    "\n",
    "Analyzing the dataset using pandas, a popular python library for data analysis and giving interesting and amazing answers using the deductions made during the analysis.\n",
    "\n",
    "\n"
   ]
  },
  {
   "cell_type": "markdown",
   "metadata": {},
   "source": [
    "#### Q1: What are the various subjects for which Udemy is offering the  courses ?"
   ]
  },
  {
   "cell_type": "code",
   "execution_count": 43,
   "metadata": {},
   "outputs": [
    {
     "data": {
      "text/plain": [
       "array(['Business Finance', 'Graphic Design', 'Musical Instruments',\n",
       "       'Web Development'], dtype=object)"
      ]
     },
     "execution_count": 43,
     "metadata": {},
     "output_type": "execute_result"
    }
   ],
   "source": [
    "udemy_courses_df.subject.unique()"
   ]
  },
  {
   "cell_type": "code",
   "execution_count": 44,
   "metadata": {},
   "outputs": [
    {
     "name": "stdout",
     "output_type": "stream",
     "text": [
      "Hence, udemy is offereing courses for 4 subjects, business finance, graphic design, musical instruments, and web development)\n"
     ]
    }
   ],
   "source": [
    "print('Hence, udemy is offereing courses for 4 subjects, business finance, graphic design, musical instruments, and web development)')"
   ]
  },
  {
   "cell_type": "code",
   "execution_count": null,
   "metadata": {},
   "outputs": [],
   "source": []
  },
  {
   "cell_type": "markdown",
   "metadata": {},
   "source": [
    "#### Q2: How many courses are available for free of cost in Udemy Courses?"
   ]
  },
  {
   "cell_type": "code",
   "execution_count": 45,
   "metadata": {},
   "outputs": [
    {
     "data": {
      "text/html": [
       "<div>\n",
       "<style scoped>\n",
       "    .dataframe tbody tr th:only-of-type {\n",
       "        vertical-align: middle;\n",
       "    }\n",
       "\n",
       "    .dataframe tbody tr th {\n",
       "        vertical-align: top;\n",
       "    }\n",
       "\n",
       "    .dataframe thead th {\n",
       "        text-align: right;\n",
       "    }\n",
       "</style>\n",
       "<table border=\"1\" class=\"dataframe\">\n",
       "  <thead>\n",
       "    <tr style=\"text-align: right;\">\n",
       "      <th></th>\n",
       "      <th>course_id</th>\n",
       "      <th>course_title</th>\n",
       "      <th>url</th>\n",
       "      <th>is_paid</th>\n",
       "      <th>price</th>\n",
       "      <th>num_subscribers</th>\n",
       "      <th>num_reviews</th>\n",
       "      <th>num_lectures</th>\n",
       "      <th>level</th>\n",
       "      <th>content_duration</th>\n",
       "      <th>published_timestamp</th>\n",
       "      <th>subject</th>\n",
       "    </tr>\n",
       "  </thead>\n",
       "  <tbody>\n",
       "    <tr>\n",
       "      <th>95</th>\n",
       "      <td>1148774</td>\n",
       "      <td>Options Trading 101: The Basics</td>\n",
       "      <td>https://www.udemy.com/options-trading-101-the-...</td>\n",
       "      <td>False</td>\n",
       "      <td>0</td>\n",
       "      <td>1514</td>\n",
       "      <td>66</td>\n",
       "      <td>11</td>\n",
       "      <td>Beginner Level</td>\n",
       "      <td>0.550000</td>\n",
       "      <td>2017-03-23T22:19:57Z</td>\n",
       "      <td>Business Finance</td>\n",
       "    </tr>\n",
       "    <tr>\n",
       "      <th>103</th>\n",
       "      <td>133536</td>\n",
       "      <td>Stock Market Investing for Beginners</td>\n",
       "      <td>https://www.udemy.com/the-beginners-guide-to-t...</td>\n",
       "      <td>False</td>\n",
       "      <td>0</td>\n",
       "      <td>50855</td>\n",
       "      <td>2698</td>\n",
       "      <td>15</td>\n",
       "      <td>Beginner Level</td>\n",
       "      <td>1.500000</td>\n",
       "      <td>2013-12-25T19:53:34Z</td>\n",
       "      <td>Business Finance</td>\n",
       "    </tr>\n",
       "    <tr>\n",
       "      <th>106</th>\n",
       "      <td>265960</td>\n",
       "      <td>Fundamentals of Forex Trading</td>\n",
       "      <td>https://www.udemy.com/fundamentals-of-forex-tr...</td>\n",
       "      <td>False</td>\n",
       "      <td>0</td>\n",
       "      <td>17160</td>\n",
       "      <td>620</td>\n",
       "      <td>23</td>\n",
       "      <td>All Levels</td>\n",
       "      <td>1.000000</td>\n",
       "      <td>2014-08-29T20:10:38Z</td>\n",
       "      <td>Business Finance</td>\n",
       "    </tr>\n",
       "    <tr>\n",
       "      <th>108</th>\n",
       "      <td>923616</td>\n",
       "      <td>Website Investing 101 - Buying &amp; Selling Onlin...</td>\n",
       "      <td>https://www.udemy.com/cash-flow-website-invest...</td>\n",
       "      <td>False</td>\n",
       "      <td>0</td>\n",
       "      <td>6811</td>\n",
       "      <td>151</td>\n",
       "      <td>51</td>\n",
       "      <td>All Levels</td>\n",
       "      <td>2.000000</td>\n",
       "      <td>2016-08-05T17:03:15Z</td>\n",
       "      <td>Business Finance</td>\n",
       "    </tr>\n",
       "    <tr>\n",
       "      <th>112</th>\n",
       "      <td>191854</td>\n",
       "      <td>Stock Market Foundations</td>\n",
       "      <td>https://www.udemy.com/how-to-invest-in-the-sto...</td>\n",
       "      <td>False</td>\n",
       "      <td>0</td>\n",
       "      <td>19339</td>\n",
       "      <td>794</td>\n",
       "      <td>9</td>\n",
       "      <td>Beginner Level</td>\n",
       "      <td>2.000000</td>\n",
       "      <td>2014-03-31T21:35:06Z</td>\n",
       "      <td>Business Finance</td>\n",
       "    </tr>\n",
       "    <tr>\n",
       "      <th>...</th>\n",
       "      <td>...</td>\n",
       "      <td>...</td>\n",
       "      <td>...</td>\n",
       "      <td>...</td>\n",
       "      <td>...</td>\n",
       "      <td>...</td>\n",
       "      <td>...</td>\n",
       "      <td>...</td>\n",
       "      <td>...</td>\n",
       "      <td>...</td>\n",
       "      <td>...</td>\n",
       "      <td>...</td>\n",
       "    </tr>\n",
       "    <tr>\n",
       "      <th>3638</th>\n",
       "      <td>155640</td>\n",
       "      <td>Building a Search Engine in PHP &amp; MySQL</td>\n",
       "      <td>https://www.udemy.com/creating-a-search-engine...</td>\n",
       "      <td>False</td>\n",
       "      <td>0</td>\n",
       "      <td>10110</td>\n",
       "      <td>379</td>\n",
       "      <td>12</td>\n",
       "      <td>All Levels</td>\n",
       "      <td>2.500000</td>\n",
       "      <td>2014-02-03T18:07:52Z</td>\n",
       "      <td>Web Development</td>\n",
       "    </tr>\n",
       "    <tr>\n",
       "      <th>3643</th>\n",
       "      <td>366720</td>\n",
       "      <td>CSS Image filters - The modern web images colo...</td>\n",
       "      <td>https://www.udemy.com/super-awesome-images-wit...</td>\n",
       "      <td>False</td>\n",
       "      <td>0</td>\n",
       "      <td>6315</td>\n",
       "      <td>53</td>\n",
       "      <td>16</td>\n",
       "      <td>All Levels</td>\n",
       "      <td>1.500000</td>\n",
       "      <td>2014-12-10T19:43:40Z</td>\n",
       "      <td>Web Development</td>\n",
       "    </tr>\n",
       "    <tr>\n",
       "      <th>3651</th>\n",
       "      <td>1079078</td>\n",
       "      <td>Drupal 8 Site Building</td>\n",
       "      <td>https://www.udemy.com/drupal-8-site-building/</td>\n",
       "      <td>False</td>\n",
       "      <td>0</td>\n",
       "      <td>1942</td>\n",
       "      <td>23</td>\n",
       "      <td>48</td>\n",
       "      <td>All Levels</td>\n",
       "      <td>4.500000</td>\n",
       "      <td>2017-05-02T05:15:52Z</td>\n",
       "      <td>Web Development</td>\n",
       "    </tr>\n",
       "    <tr>\n",
       "      <th>3665</th>\n",
       "      <td>21386</td>\n",
       "      <td>Beginner Photoshop to HTML5 and CSS3</td>\n",
       "      <td>https://www.udemy.com/psd-html5-css3/</td>\n",
       "      <td>False</td>\n",
       "      <td>0</td>\n",
       "      <td>73110</td>\n",
       "      <td>1716</td>\n",
       "      <td>22</td>\n",
       "      <td>All Levels</td>\n",
       "      <td>2.000000</td>\n",
       "      <td>2012-07-27T12:54:57Z</td>\n",
       "      <td>Web Development</td>\n",
       "    </tr>\n",
       "    <tr>\n",
       "      <th>3668</th>\n",
       "      <td>270976</td>\n",
       "      <td>A how to guide in HTML</td>\n",
       "      <td>https://www.udemy.com/a-how-to-guide-in-html/</td>\n",
       "      <td>False</td>\n",
       "      <td>0</td>\n",
       "      <td>7318</td>\n",
       "      <td>205</td>\n",
       "      <td>8</td>\n",
       "      <td>Beginner Level</td>\n",
       "      <td>0.583333</td>\n",
       "      <td>2014-08-10T20:19:10Z</td>\n",
       "      <td>Web Development</td>\n",
       "    </tr>\n",
       "  </tbody>\n",
       "</table>\n",
       "<p>310 rows × 12 columns</p>\n",
       "</div>"
      ],
      "text/plain": [
       "      course_id                                       course_title  \\\n",
       "95      1148774                    Options Trading 101: The Basics   \n",
       "103      133536               Stock Market Investing for Beginners   \n",
       "106      265960                      Fundamentals of Forex Trading   \n",
       "108      923616  Website Investing 101 - Buying & Selling Onlin...   \n",
       "112      191854                           Stock Market Foundations   \n",
       "...         ...                                                ...   \n",
       "3638     155640            Building a Search Engine in PHP & MySQL   \n",
       "3643     366720  CSS Image filters - The modern web images colo...   \n",
       "3651    1079078                             Drupal 8 Site Building   \n",
       "3665      21386               Beginner Photoshop to HTML5 and CSS3   \n",
       "3668     270976                             A how to guide in HTML   \n",
       "\n",
       "                                                    url  is_paid  price  \\\n",
       "95    https://www.udemy.com/options-trading-101-the-...    False      0   \n",
       "103   https://www.udemy.com/the-beginners-guide-to-t...    False      0   \n",
       "106   https://www.udemy.com/fundamentals-of-forex-tr...    False      0   \n",
       "108   https://www.udemy.com/cash-flow-website-invest...    False      0   \n",
       "112   https://www.udemy.com/how-to-invest-in-the-sto...    False      0   \n",
       "...                                                 ...      ...    ...   \n",
       "3638  https://www.udemy.com/creating-a-search-engine...    False      0   \n",
       "3643  https://www.udemy.com/super-awesome-images-wit...    False      0   \n",
       "3651      https://www.udemy.com/drupal-8-site-building/    False      0   \n",
       "3665              https://www.udemy.com/psd-html5-css3/    False      0   \n",
       "3668      https://www.udemy.com/a-how-to-guide-in-html/    False      0   \n",
       "\n",
       "      num_subscribers  num_reviews  num_lectures           level  \\\n",
       "95               1514           66            11  Beginner Level   \n",
       "103             50855         2698            15  Beginner Level   \n",
       "106             17160          620            23      All Levels   \n",
       "108              6811          151            51      All Levels   \n",
       "112             19339          794             9  Beginner Level   \n",
       "...               ...          ...           ...             ...   \n",
       "3638            10110          379            12      All Levels   \n",
       "3643             6315           53            16      All Levels   \n",
       "3651             1942           23            48      All Levels   \n",
       "3665            73110         1716            22      All Levels   \n",
       "3668             7318          205             8  Beginner Level   \n",
       "\n",
       "      content_duration   published_timestamp           subject  \n",
       "95            0.550000  2017-03-23T22:19:57Z  Business Finance  \n",
       "103           1.500000  2013-12-25T19:53:34Z  Business Finance  \n",
       "106           1.000000  2014-08-29T20:10:38Z  Business Finance  \n",
       "108           2.000000  2016-08-05T17:03:15Z  Business Finance  \n",
       "112           2.000000  2014-03-31T21:35:06Z  Business Finance  \n",
       "...                ...                   ...               ...  \n",
       "3638          2.500000  2014-02-03T18:07:52Z   Web Development  \n",
       "3643          1.500000  2014-12-10T19:43:40Z   Web Development  \n",
       "3651          4.500000  2017-05-02T05:15:52Z   Web Development  \n",
       "3665          2.000000  2012-07-27T12:54:57Z   Web Development  \n",
       "3668          0.583333  2014-08-10T20:19:10Z   Web Development  \n",
       "\n",
       "[310 rows x 12 columns]"
      ]
     },
     "execution_count": 45,
     "metadata": {},
     "output_type": "execute_result"
    }
   ],
   "source": [
    "free_course = udemy_courses_df[udemy_courses_df.is_paid == False]\n",
    "free_course"
   ]
  },
  {
   "cell_type": "code",
   "execution_count": 46,
   "metadata": {},
   "outputs": [
    {
     "name": "stdout",
     "output_type": "stream",
     "text": [
      "There are 310 free courses available in udemy courses.\n"
     ]
    }
   ],
   "source": [
    "(x,y) = free_course.shape\n",
    "free_course_all = x\n",
    "\n",
    "print('There are {} free courses available in udemy courses.'.format(free_course_all))"
   ]
  },
  {
   "cell_type": "code",
   "execution_count": null,
   "metadata": {},
   "outputs": [],
   "source": []
  },
  {
   "cell_type": "markdown",
   "metadata": {},
   "source": [
    "#### Q3: Find the number of courses which are available at intermediate level in Udemy Courses?"
   ]
  },
  {
   "cell_type": "code",
   "execution_count": 47,
   "metadata": {},
   "outputs": [],
   "source": [
    "udemy_courses_df_inter=udemy_courses_df[udemy_courses_df.level=='Intermediate Level']\n"
   ]
  },
  {
   "cell_type": "code",
   "execution_count": 48,
   "metadata": {},
   "outputs": [
    {
     "data": {
      "text/html": [
       "<div>\n",
       "<style scoped>\n",
       "    .dataframe tbody tr th:only-of-type {\n",
       "        vertical-align: middle;\n",
       "    }\n",
       "\n",
       "    .dataframe tbody tr th {\n",
       "        vertical-align: top;\n",
       "    }\n",
       "\n",
       "    .dataframe thead th {\n",
       "        text-align: right;\n",
       "    }\n",
       "</style>\n",
       "<table border=\"1\" class=\"dataframe\">\n",
       "  <thead>\n",
       "    <tr style=\"text-align: right;\">\n",
       "      <th></th>\n",
       "      <th>course_id</th>\n",
       "      <th>course_title</th>\n",
       "      <th>url</th>\n",
       "      <th>is_paid</th>\n",
       "      <th>price</th>\n",
       "      <th>num_subscribers</th>\n",
       "      <th>num_reviews</th>\n",
       "      <th>num_lectures</th>\n",
       "      <th>level</th>\n",
       "      <th>content_duration</th>\n",
       "      <th>published_timestamp</th>\n",
       "      <th>subject</th>\n",
       "    </tr>\n",
       "  </thead>\n",
       "  <tbody>\n",
       "    <tr>\n",
       "      <th>2</th>\n",
       "      <td>1006314</td>\n",
       "      <td>Financial Modeling for Business Analysts and C...</td>\n",
       "      <td>https://www.udemy.com/financial-modeling-for-b...</td>\n",
       "      <td>True</td>\n",
       "      <td>45</td>\n",
       "      <td>2174</td>\n",
       "      <td>74</td>\n",
       "      <td>51</td>\n",
       "      <td>Intermediate Level</td>\n",
       "      <td>2.5</td>\n",
       "      <td>2016-12-19T19:26:30Z</td>\n",
       "      <td>Business Finance</td>\n",
       "    </tr>\n",
       "    <tr>\n",
       "      <th>4</th>\n",
       "      <td>1011058</td>\n",
       "      <td>How To Maximize Your Profits Trading Options</td>\n",
       "      <td>https://www.udemy.com/how-to-maximize-your-pro...</td>\n",
       "      <td>True</td>\n",
       "      <td>200</td>\n",
       "      <td>1276</td>\n",
       "      <td>45</td>\n",
       "      <td>26</td>\n",
       "      <td>Intermediate Level</td>\n",
       "      <td>2.0</td>\n",
       "      <td>2016-12-13T14:57:18Z</td>\n",
       "      <td>Business Finance</td>\n",
       "    </tr>\n",
       "    <tr>\n",
       "      <th>15</th>\n",
       "      <td>504036</td>\n",
       "      <td>Short Selling: Learn To Sell Stocks Before The...</td>\n",
       "      <td>https://www.udemy.com/short-selling-learn-to-s...</td>\n",
       "      <td>True</td>\n",
       "      <td>75</td>\n",
       "      <td>2276</td>\n",
       "      <td>106</td>\n",
       "      <td>19</td>\n",
       "      <td>Intermediate Level</td>\n",
       "      <td>1.5</td>\n",
       "      <td>2015-06-22T21:18:35Z</td>\n",
       "      <td>Business Finance</td>\n",
       "    </tr>\n",
       "    <tr>\n",
       "      <th>27</th>\n",
       "      <td>447362</td>\n",
       "      <td>Create Your Own Hedge Fund: Trade Stocks Like ...</td>\n",
       "      <td>https://www.udemy.com/create-your-own-hedge-fu...</td>\n",
       "      <td>True</td>\n",
       "      <td>175</td>\n",
       "      <td>4005</td>\n",
       "      <td>237</td>\n",
       "      <td>25</td>\n",
       "      <td>Intermediate Level</td>\n",
       "      <td>2.0</td>\n",
       "      <td>2015-04-12T20:13:47Z</td>\n",
       "      <td>Business Finance</td>\n",
       "    </tr>\n",
       "    <tr>\n",
       "      <th>35</th>\n",
       "      <td>434774</td>\n",
       "      <td>Options Trading Stocks: Proven Toolbox For Fin...</td>\n",
       "      <td>https://www.udemy.com/trading-stock-options-ii...</td>\n",
       "      <td>True</td>\n",
       "      <td>195</td>\n",
       "      <td>7884</td>\n",
       "      <td>118</td>\n",
       "      <td>68</td>\n",
       "      <td>Intermediate Level</td>\n",
       "      <td>10.0</td>\n",
       "      <td>2015-05-19T23:25:41Z</td>\n",
       "      <td>Business Finance</td>\n",
       "    </tr>\n",
       "    <tr>\n",
       "      <th>...</th>\n",
       "      <td>...</td>\n",
       "      <td>...</td>\n",
       "      <td>...</td>\n",
       "      <td>...</td>\n",
       "      <td>...</td>\n",
       "      <td>...</td>\n",
       "      <td>...</td>\n",
       "      <td>...</td>\n",
       "      <td>...</td>\n",
       "      <td>...</td>\n",
       "      <td>...</td>\n",
       "      <td>...</td>\n",
       "    </tr>\n",
       "    <tr>\n",
       "      <th>3619</th>\n",
       "      <td>973932</td>\n",
       "      <td>Learn Spring Security 4 Intermediate - Hands On</td>\n",
       "      <td>https://www.udemy.com/learn-spring-security-4-...</td>\n",
       "      <td>True</td>\n",
       "      <td>95</td>\n",
       "      <td>227</td>\n",
       "      <td>16</td>\n",
       "      <td>20</td>\n",
       "      <td>Intermediate Level</td>\n",
       "      <td>2.0</td>\n",
       "      <td>2016-10-03T16:16:36Z</td>\n",
       "      <td>Web Development</td>\n",
       "    </tr>\n",
       "    <tr>\n",
       "      <th>3635</th>\n",
       "      <td>576054</td>\n",
       "      <td>WordPress Development - Themes, Plugins &amp; Sing...</td>\n",
       "      <td>https://www.udemy.com/wordpress-development-cr...</td>\n",
       "      <td>True</td>\n",
       "      <td>150</td>\n",
       "      <td>817</td>\n",
       "      <td>164</td>\n",
       "      <td>131</td>\n",
       "      <td>Intermediate Level</td>\n",
       "      <td>19.5</td>\n",
       "      <td>2016-03-02T06:26:16Z</td>\n",
       "      <td>Web Development</td>\n",
       "    </tr>\n",
       "    <tr>\n",
       "      <th>3639</th>\n",
       "      <td>261148</td>\n",
       "      <td>create a search engine for your website!</td>\n",
       "      <td>https://www.udemy.com/create-a-simple-php-mysq...</td>\n",
       "      <td>True</td>\n",
       "      <td>20</td>\n",
       "      <td>1832</td>\n",
       "      <td>6</td>\n",
       "      <td>12</td>\n",
       "      <td>Intermediate Level</td>\n",
       "      <td>1.5</td>\n",
       "      <td>2014-07-17T18:28:04Z</td>\n",
       "      <td>Web Development</td>\n",
       "    </tr>\n",
       "    <tr>\n",
       "      <th>3644</th>\n",
       "      <td>554136</td>\n",
       "      <td>Building Responsive Websites with Bootstrap 3 ...</td>\n",
       "      <td>https://www.udemy.com/building-responsive-webs...</td>\n",
       "      <td>True</td>\n",
       "      <td>75</td>\n",
       "      <td>1322</td>\n",
       "      <td>14</td>\n",
       "      <td>27</td>\n",
       "      <td>Intermediate Level</td>\n",
       "      <td>3.0</td>\n",
       "      <td>2015-07-22T22:54:03Z</td>\n",
       "      <td>Web Development</td>\n",
       "    </tr>\n",
       "    <tr>\n",
       "      <th>3671</th>\n",
       "      <td>667122</td>\n",
       "      <td>Build A Stock Downloader With Visual Studio 20...</td>\n",
       "      <td>https://www.udemy.com/csharpyahoostockdownloader/</td>\n",
       "      <td>True</td>\n",
       "      <td>20</td>\n",
       "      <td>436</td>\n",
       "      <td>36</td>\n",
       "      <td>22</td>\n",
       "      <td>Intermediate Level</td>\n",
       "      <td>1.5</td>\n",
       "      <td>2015-11-19T17:22:47Z</td>\n",
       "      <td>Web Development</td>\n",
       "    </tr>\n",
       "  </tbody>\n",
       "</table>\n",
       "<p>421 rows × 12 columns</p>\n",
       "</div>"
      ],
      "text/plain": [
       "      course_id                                       course_title  \\\n",
       "2       1006314  Financial Modeling for Business Analysts and C...   \n",
       "4       1011058       How To Maximize Your Profits Trading Options   \n",
       "15       504036  Short Selling: Learn To Sell Stocks Before The...   \n",
       "27       447362  Create Your Own Hedge Fund: Trade Stocks Like ...   \n",
       "35       434774  Options Trading Stocks: Proven Toolbox For Fin...   \n",
       "...         ...                                                ...   \n",
       "3619     973932    Learn Spring Security 4 Intermediate - Hands On   \n",
       "3635     576054  WordPress Development - Themes, Plugins & Sing...   \n",
       "3639     261148           create a search engine for your website!   \n",
       "3644     554136  Building Responsive Websites with Bootstrap 3 ...   \n",
       "3671     667122  Build A Stock Downloader With Visual Studio 20...   \n",
       "\n",
       "                                                    url  is_paid  price  \\\n",
       "2     https://www.udemy.com/financial-modeling-for-b...     True     45   \n",
       "4     https://www.udemy.com/how-to-maximize-your-pro...     True    200   \n",
       "15    https://www.udemy.com/short-selling-learn-to-s...     True     75   \n",
       "27    https://www.udemy.com/create-your-own-hedge-fu...     True    175   \n",
       "35    https://www.udemy.com/trading-stock-options-ii...     True    195   \n",
       "...                                                 ...      ...    ...   \n",
       "3619  https://www.udemy.com/learn-spring-security-4-...     True     95   \n",
       "3635  https://www.udemy.com/wordpress-development-cr...     True    150   \n",
       "3639  https://www.udemy.com/create-a-simple-php-mysq...     True     20   \n",
       "3644  https://www.udemy.com/building-responsive-webs...     True     75   \n",
       "3671  https://www.udemy.com/csharpyahoostockdownloader/     True     20   \n",
       "\n",
       "      num_subscribers  num_reviews  num_lectures               level  \\\n",
       "2                2174           74            51  Intermediate Level   \n",
       "4                1276           45            26  Intermediate Level   \n",
       "15               2276          106            19  Intermediate Level   \n",
       "27               4005          237            25  Intermediate Level   \n",
       "35               7884          118            68  Intermediate Level   \n",
       "...               ...          ...           ...                 ...   \n",
       "3619              227           16            20  Intermediate Level   \n",
       "3635              817          164           131  Intermediate Level   \n",
       "3639             1832            6            12  Intermediate Level   \n",
       "3644             1322           14            27  Intermediate Level   \n",
       "3671              436           36            22  Intermediate Level   \n",
       "\n",
       "      content_duration   published_timestamp           subject  \n",
       "2                  2.5  2016-12-19T19:26:30Z  Business Finance  \n",
       "4                  2.0  2016-12-13T14:57:18Z  Business Finance  \n",
       "15                 1.5  2015-06-22T21:18:35Z  Business Finance  \n",
       "27                 2.0  2015-04-12T20:13:47Z  Business Finance  \n",
       "35                10.0  2015-05-19T23:25:41Z  Business Finance  \n",
       "...                ...                   ...               ...  \n",
       "3619               2.0  2016-10-03T16:16:36Z   Web Development  \n",
       "3635              19.5  2016-03-02T06:26:16Z   Web Development  \n",
       "3639               1.5  2014-07-17T18:28:04Z   Web Development  \n",
       "3644               3.0  2015-07-22T22:54:03Z   Web Development  \n",
       "3671               1.5  2015-11-19T17:22:47Z   Web Development  \n",
       "\n",
       "[421 rows x 12 columns]"
      ]
     },
     "execution_count": 48,
     "metadata": {},
     "output_type": "execute_result"
    }
   ],
   "source": [
    "udemy_courses_df_inter"
   ]
  },
  {
   "cell_type": "code",
   "execution_count": 49,
   "metadata": {},
   "outputs": [],
   "source": [
    "x=udemy_courses_df_inter.course_title.count()"
   ]
  },
  {
   "cell_type": "code",
   "execution_count": 50,
   "metadata": {},
   "outputs": [
    {
     "name": "stdout",
     "output_type": "stream",
     "text": [
      "There are 421 number of courses which are available at intermediate level in udemy courses.\n"
     ]
    }
   ],
   "source": [
    "print(\"There are {} number of courses which are available at intermediate level in udemy courses.\".format(x))"
   ]
  },
  {
   "cell_type": "code",
   "execution_count": null,
   "metadata": {},
   "outputs": [],
   "source": []
  },
  {
   "cell_type": "markdown",
   "metadata": {},
   "source": [
    "#### Q4:  Find the top 10 courses which are available for Graphic Designing & having the highest number of reviews in it?."
   ]
  },
  {
   "cell_type": "code",
   "execution_count": 51,
   "metadata": {},
   "outputs": [],
   "source": [
    "udemy_graphic=udemy_courses_df[udemy_courses_df.subject==\"Graphic Design\"]"
   ]
  },
  {
   "cell_type": "code",
   "execution_count": 52,
   "metadata": {},
   "outputs": [],
   "source": [
    "udemy_highest=udemy_graphic.sort_values(\"num_reviews\",ascending=False)"
   ]
  },
  {
   "cell_type": "code",
   "execution_count": 53,
   "metadata": {},
   "outputs": [
    {
     "data": {
      "text/html": [
       "<div>\n",
       "<style scoped>\n",
       "    .dataframe tbody tr th:only-of-type {\n",
       "        vertical-align: middle;\n",
       "    }\n",
       "\n",
       "    .dataframe tbody tr th {\n",
       "        vertical-align: top;\n",
       "    }\n",
       "\n",
       "    .dataframe thead th {\n",
       "        text-align: right;\n",
       "    }\n",
       "</style>\n",
       "<table border=\"1\" class=\"dataframe\">\n",
       "  <thead>\n",
       "    <tr style=\"text-align: right;\">\n",
       "      <th></th>\n",
       "      <th>course_id</th>\n",
       "      <th>course_title</th>\n",
       "      <th>url</th>\n",
       "      <th>is_paid</th>\n",
       "      <th>price</th>\n",
       "      <th>num_subscribers</th>\n",
       "      <th>num_reviews</th>\n",
       "      <th>num_lectures</th>\n",
       "      <th>level</th>\n",
       "      <th>content_duration</th>\n",
       "      <th>published_timestamp</th>\n",
       "      <th>subject</th>\n",
       "    </tr>\n",
       "  </thead>\n",
       "  <tbody>\n",
       "    <tr>\n",
       "      <th>1211</th>\n",
       "      <td>874012</td>\n",
       "      <td>The Ultimate Drawing Course - Beginner to Adva...</td>\n",
       "      <td>https://www.udemy.com/the-ultimate-drawing-cou...</td>\n",
       "      <td>True</td>\n",
       "      <td>150</td>\n",
       "      <td>26742</td>\n",
       "      <td>2379</td>\n",
       "      <td>62</td>\n",
       "      <td>Beginner Level</td>\n",
       "      <td>11.0</td>\n",
       "      <td>2017-01-23T00:20:05Z</td>\n",
       "      <td>Graphic Design</td>\n",
       "    </tr>\n",
       "    <tr>\n",
       "      <th>1409</th>\n",
       "      <td>660876</td>\n",
       "      <td>Graphic Design - An Overview of the Field</td>\n",
       "      <td>https://www.udemy.com/graphic-design-secrets/</td>\n",
       "      <td>False</td>\n",
       "      <td>0</td>\n",
       "      <td>23229</td>\n",
       "      <td>2215</td>\n",
       "      <td>12</td>\n",
       "      <td>Beginner Level</td>\n",
       "      <td>1.0</td>\n",
       "      <td>2015-11-09T19:10:57Z</td>\n",
       "      <td>Graphic Design</td>\n",
       "    </tr>\n",
       "    <tr>\n",
       "      <th>1461</th>\n",
       "      <td>348116</td>\n",
       "      <td>Photoshop In-Depth: Master all of Photoshop's ...</td>\n",
       "      <td>https://www.udemy.com/photoshop-tools/</td>\n",
       "      <td>False</td>\n",
       "      <td>0</td>\n",
       "      <td>53851</td>\n",
       "      <td>1779</td>\n",
       "      <td>45</td>\n",
       "      <td>All Levels</td>\n",
       "      <td>4.5</td>\n",
       "      <td>2014-11-30T04:22:11Z</td>\n",
       "      <td>Graphic Design</td>\n",
       "    </tr>\n",
       "    <tr>\n",
       "      <th>1210</th>\n",
       "      <td>749542</td>\n",
       "      <td>Graphic Design Bootcamp</td>\n",
       "      <td>https://www.udemy.com/graphic-design-for-begin...</td>\n",
       "      <td>True</td>\n",
       "      <td>200</td>\n",
       "      <td>15276</td>\n",
       "      <td>1740</td>\n",
       "      <td>65</td>\n",
       "      <td>Beginner Level</td>\n",
       "      <td>8.0</td>\n",
       "      <td>2016-05-13T00:03:03Z</td>\n",
       "      <td>Graphic Design</td>\n",
       "    </tr>\n",
       "    <tr>\n",
       "      <th>1215</th>\n",
       "      <td>371074</td>\n",
       "      <td>Sketch 3 from A to Z: Become an App Designer</td>\n",
       "      <td>https://www.udemy.com/learnsketch3/</td>\n",
       "      <td>True</td>\n",
       "      <td>75</td>\n",
       "      <td>7282</td>\n",
       "      <td>1629</td>\n",
       "      <td>42</td>\n",
       "      <td>All Levels</td>\n",
       "      <td>3.5</td>\n",
       "      <td>2015-01-03T08:21:48Z</td>\n",
       "      <td>Graphic Design</td>\n",
       "    </tr>\n",
       "    <tr>\n",
       "      <th>1390</th>\n",
       "      <td>399938</td>\n",
       "      <td>Professional Logo Design in Adobe Illustrator</td>\n",
       "      <td>https://www.udemy.com/professional-logo-design...</td>\n",
       "      <td>False</td>\n",
       "      <td>0</td>\n",
       "      <td>44044</td>\n",
       "      <td>1563</td>\n",
       "      <td>45</td>\n",
       "      <td>All Levels</td>\n",
       "      <td>7.5</td>\n",
       "      <td>2015-01-22T11:18:06Z</td>\n",
       "      <td>Graphic Design</td>\n",
       "    </tr>\n",
       "    <tr>\n",
       "      <th>1286</th>\n",
       "      <td>17349</td>\n",
       "      <td>Figure Drawing From Life Using The Reilly Tech...</td>\n",
       "      <td>https://www.udemy.com/figure-drawing-from-life...</td>\n",
       "      <td>False</td>\n",
       "      <td>0</td>\n",
       "      <td>47811</td>\n",
       "      <td>1041</td>\n",
       "      <td>22</td>\n",
       "      <td>All Levels</td>\n",
       "      <td>2.5</td>\n",
       "      <td>2012-05-09T18:14:57Z</td>\n",
       "      <td>Graphic Design</td>\n",
       "    </tr>\n",
       "    <tr>\n",
       "      <th>1214</th>\n",
       "      <td>62721</td>\n",
       "      <td>Anatomy for Figure Drawing: Mastering the Huma...</td>\n",
       "      <td>https://www.udemy.com/anatomy-for-figure-drawi...</td>\n",
       "      <td>True</td>\n",
       "      <td>95</td>\n",
       "      <td>15500</td>\n",
       "      <td>754</td>\n",
       "      <td>65</td>\n",
       "      <td>All Levels</td>\n",
       "      <td>68.5</td>\n",
       "      <td>2013-10-16T11:37:30Z</td>\n",
       "      <td>Graphic Design</td>\n",
       "    </tr>\n",
       "    <tr>\n",
       "      <th>1213</th>\n",
       "      <td>820194</td>\n",
       "      <td>Photoshop for Entrepreneurs - Design 11 Practi...</td>\n",
       "      <td>https://www.udemy.com/photoshop-for-entreprene...</td>\n",
       "      <td>True</td>\n",
       "      <td>200</td>\n",
       "      <td>36288</td>\n",
       "      <td>737</td>\n",
       "      <td>63</td>\n",
       "      <td>All Levels</td>\n",
       "      <td>5.0</td>\n",
       "      <td>2016-06-09T01:57:03Z</td>\n",
       "      <td>Graphic Design</td>\n",
       "    </tr>\n",
       "    <tr>\n",
       "      <th>1382</th>\n",
       "      <td>611804</td>\n",
       "      <td>Primeros Pasos con Photoshop CC</td>\n",
       "      <td>https://www.udemy.com/felinu-primeros-pasos-co...</td>\n",
       "      <td>False</td>\n",
       "      <td>0</td>\n",
       "      <td>6429</td>\n",
       "      <td>654</td>\n",
       "      <td>31</td>\n",
       "      <td>Beginner Level</td>\n",
       "      <td>2.5</td>\n",
       "      <td>2015-09-23T15:30:59Z</td>\n",
       "      <td>Graphic Design</td>\n",
       "    </tr>\n",
       "  </tbody>\n",
       "</table>\n",
       "</div>"
      ],
      "text/plain": [
       "      course_id                                       course_title  \\\n",
       "1211     874012  The Ultimate Drawing Course - Beginner to Adva...   \n",
       "1409     660876          Graphic Design - An Overview of the Field   \n",
       "1461     348116  Photoshop In-Depth: Master all of Photoshop's ...   \n",
       "1210     749542                            Graphic Design Bootcamp   \n",
       "1215     371074       Sketch 3 from A to Z: Become an App Designer   \n",
       "1390     399938      Professional Logo Design in Adobe Illustrator   \n",
       "1286      17349  Figure Drawing From Life Using The Reilly Tech...   \n",
       "1214      62721  Anatomy for Figure Drawing: Mastering the Huma...   \n",
       "1213     820194  Photoshop for Entrepreneurs - Design 11 Practi...   \n",
       "1382     611804                    Primeros Pasos con Photoshop CC   \n",
       "\n",
       "                                                    url  is_paid  price  \\\n",
       "1211  https://www.udemy.com/the-ultimate-drawing-cou...     True    150   \n",
       "1409      https://www.udemy.com/graphic-design-secrets/    False      0   \n",
       "1461             https://www.udemy.com/photoshop-tools/    False      0   \n",
       "1210  https://www.udemy.com/graphic-design-for-begin...     True    200   \n",
       "1215                https://www.udemy.com/learnsketch3/     True     75   \n",
       "1390  https://www.udemy.com/professional-logo-design...    False      0   \n",
       "1286  https://www.udemy.com/figure-drawing-from-life...    False      0   \n",
       "1214  https://www.udemy.com/anatomy-for-figure-drawi...     True     95   \n",
       "1213  https://www.udemy.com/photoshop-for-entreprene...     True    200   \n",
       "1382  https://www.udemy.com/felinu-primeros-pasos-co...    False      0   \n",
       "\n",
       "      num_subscribers  num_reviews  num_lectures           level  \\\n",
       "1211            26742         2379            62  Beginner Level   \n",
       "1409            23229         2215            12  Beginner Level   \n",
       "1461            53851         1779            45      All Levels   \n",
       "1210            15276         1740            65  Beginner Level   \n",
       "1215             7282         1629            42      All Levels   \n",
       "1390            44044         1563            45      All Levels   \n",
       "1286            47811         1041            22      All Levels   \n",
       "1214            15500          754            65      All Levels   \n",
       "1213            36288          737            63      All Levels   \n",
       "1382             6429          654            31  Beginner Level   \n",
       "\n",
       "      content_duration   published_timestamp         subject  \n",
       "1211              11.0  2017-01-23T00:20:05Z  Graphic Design  \n",
       "1409               1.0  2015-11-09T19:10:57Z  Graphic Design  \n",
       "1461               4.5  2014-11-30T04:22:11Z  Graphic Design  \n",
       "1210               8.0  2016-05-13T00:03:03Z  Graphic Design  \n",
       "1215               3.5  2015-01-03T08:21:48Z  Graphic Design  \n",
       "1390               7.5  2015-01-22T11:18:06Z  Graphic Design  \n",
       "1286               2.5  2012-05-09T18:14:57Z  Graphic Design  \n",
       "1214              68.5  2013-10-16T11:37:30Z  Graphic Design  \n",
       "1213               5.0  2016-06-09T01:57:03Z  Graphic Design  \n",
       "1382               2.5  2015-09-23T15:30:59Z  Graphic Design  "
      ]
     },
     "execution_count": 53,
     "metadata": {},
     "output_type": "execute_result"
    }
   ],
   "source": [
    "udemy_highest.head(10)"
   ]
  },
  {
   "cell_type": "code",
   "execution_count": 54,
   "metadata": {},
   "outputs": [
    {
     "name": "stdout",
     "output_type": "stream",
     "text": [
      "Hence, these are the Top 10 courses available for Graphic designing and has highest number of reviews in it. \n"
     ]
    }
   ],
   "source": [
    "print('Hence, these are the Top 10 courses available for Graphic designing and has highest number of reviews in it. ')"
   ]
  },
  {
   "cell_type": "markdown",
   "metadata": {},
   "source": [
    "#### Q5:  Find the lowest selling courses in Udemy courses?"
   ]
  },
  {
   "cell_type": "code",
   "execution_count": 55,
   "metadata": {},
   "outputs": [
    {
     "data": {
      "text/html": [
       "<div>\n",
       "<style scoped>\n",
       "    .dataframe tbody tr th:only-of-type {\n",
       "        vertical-align: middle;\n",
       "    }\n",
       "\n",
       "    .dataframe tbody tr th {\n",
       "        vertical-align: top;\n",
       "    }\n",
       "\n",
       "    .dataframe thead th {\n",
       "        text-align: right;\n",
       "    }\n",
       "</style>\n",
       "<table border=\"1\" class=\"dataframe\">\n",
       "  <thead>\n",
       "    <tr style=\"text-align: right;\">\n",
       "      <th></th>\n",
       "      <th>course_id</th>\n",
       "      <th>course_title</th>\n",
       "      <th>url</th>\n",
       "      <th>is_paid</th>\n",
       "      <th>price</th>\n",
       "      <th>num_subscribers</th>\n",
       "      <th>num_reviews</th>\n",
       "      <th>num_lectures</th>\n",
       "      <th>level</th>\n",
       "      <th>content_duration</th>\n",
       "      <th>published_timestamp</th>\n",
       "      <th>subject</th>\n",
       "    </tr>\n",
       "  </thead>\n",
       "  <tbody>\n",
       "    <tr>\n",
       "      <th>885</th>\n",
       "      <td>1032648</td>\n",
       "      <td>beginning accounting</td>\n",
       "      <td>https://www.udemy.com/beginning_accounting/</td>\n",
       "      <td>True</td>\n",
       "      <td>20</td>\n",
       "      <td>0</td>\n",
       "      <td>0</td>\n",
       "      <td>12</td>\n",
       "      <td>Intermediate Level</td>\n",
       "      <td>0.633333</td>\n",
       "      <td>2016-12-26T16:52:47Z</td>\n",
       "      <td>Business Finance</td>\n",
       "    </tr>\n",
       "    <tr>\n",
       "      <th>456</th>\n",
       "      <td>1247992</td>\n",
       "      <td>Introduction to Project Management for Finance...</td>\n",
       "      <td>https://www.udemy.com/introduction-to-project-...</td>\n",
       "      <td>True</td>\n",
       "      <td>50</td>\n",
       "      <td>0</td>\n",
       "      <td>0</td>\n",
       "      <td>9</td>\n",
       "      <td>Beginner Level</td>\n",
       "      <td>2.000000</td>\n",
       "      <td>2017-07-03T21:40:32Z</td>\n",
       "      <td>Business Finance</td>\n",
       "    </tr>\n",
       "    <tr>\n",
       "      <th>457</th>\n",
       "      <td>1251582</td>\n",
       "      <td>Best Practices in Corporate Budgeting</td>\n",
       "      <td>https://www.udemy.com/best-practices-corporate...</td>\n",
       "      <td>True</td>\n",
       "      <td>50</td>\n",
       "      <td>0</td>\n",
       "      <td>0</td>\n",
       "      <td>9</td>\n",
       "      <td>Intermediate Level</td>\n",
       "      <td>2.000000</td>\n",
       "      <td>2017-06-29T22:01:56Z</td>\n",
       "      <td>Business Finance</td>\n",
       "    </tr>\n",
       "    <tr>\n",
       "      <th>458</th>\n",
       "      <td>1258666</td>\n",
       "      <td>Financial Statement Auditing Cycles</td>\n",
       "      <td>https://www.udemy.com/financial-statement-audi...</td>\n",
       "      <td>True</td>\n",
       "      <td>50</td>\n",
       "      <td>0</td>\n",
       "      <td>0</td>\n",
       "      <td>9</td>\n",
       "      <td>Intermediate Level</td>\n",
       "      <td>2.000000</td>\n",
       "      <td>2017-06-29T23:20:10Z</td>\n",
       "      <td>Business Finance</td>\n",
       "    </tr>\n",
       "    <tr>\n",
       "      <th>459</th>\n",
       "      <td>1168172</td>\n",
       "      <td>Case studies on credit appraisal for bankers</td>\n",
       "      <td>https://www.udemy.com/case-studies-on-credit-a...</td>\n",
       "      <td>True</td>\n",
       "      <td>20</td>\n",
       "      <td>0</td>\n",
       "      <td>0</td>\n",
       "      <td>15</td>\n",
       "      <td>Beginner Level</td>\n",
       "      <td>3.500000</td>\n",
       "      <td>2017-05-01T20:16:26Z</td>\n",
       "      <td>Business Finance</td>\n",
       "    </tr>\n",
       "    <tr>\n",
       "      <th>460</th>\n",
       "      <td>1233314</td>\n",
       "      <td>Building a Balanced Scorecard</td>\n",
       "      <td>https://www.udemy.com/building-balanced-scorec...</td>\n",
       "      <td>True</td>\n",
       "      <td>50</td>\n",
       "      <td>0</td>\n",
       "      <td>0</td>\n",
       "      <td>11</td>\n",
       "      <td>Intermediate Level</td>\n",
       "      <td>2.000000</td>\n",
       "      <td>2017-07-03T21:38:22Z</td>\n",
       "      <td>Business Finance</td>\n",
       "    </tr>\n",
       "    <tr>\n",
       "      <th>461</th>\n",
       "      <td>1276182</td>\n",
       "      <td>Options Trading Foundation: Your journey to co...</td>\n",
       "      <td>https://www.udemy.com/option-trading-foundatio...</td>\n",
       "      <td>True</td>\n",
       "      <td>95</td>\n",
       "      <td>0</td>\n",
       "      <td>0</td>\n",
       "      <td>5</td>\n",
       "      <td>Intermediate Level</td>\n",
       "      <td>1.000000</td>\n",
       "      <td>2017-07-05T04:41:54Z</td>\n",
       "      <td>Business Finance</td>\n",
       "    </tr>\n",
       "    <tr>\n",
       "      <th>462</th>\n",
       "      <td>1187084</td>\n",
       "      <td>Forex how traders beat the markest with little...</td>\n",
       "      <td>https://www.udemy.com/forex-how-traders-beat-t...</td>\n",
       "      <td>True</td>\n",
       "      <td>100</td>\n",
       "      <td>0</td>\n",
       "      <td>0</td>\n",
       "      <td>16</td>\n",
       "      <td>All Levels</td>\n",
       "      <td>1.000000</td>\n",
       "      <td>2017-07-06T21:16:13Z</td>\n",
       "      <td>Business Finance</td>\n",
       "    </tr>\n",
       "    <tr>\n",
       "      <th>463</th>\n",
       "      <td>1084454</td>\n",
       "      <td>CFA Level 2- Quantitative Methods</td>\n",
       "      <td>https://www.udemy.com/cfa-level-2-quantitative...</td>\n",
       "      <td>True</td>\n",
       "      <td>40</td>\n",
       "      <td>0</td>\n",
       "      <td>0</td>\n",
       "      <td>35</td>\n",
       "      <td>All Levels</td>\n",
       "      <td>5.500000</td>\n",
       "      <td>2017-07-02T14:29:35Z</td>\n",
       "      <td>Business Finance</td>\n",
       "    </tr>\n",
       "    <tr>\n",
       "      <th>464</th>\n",
       "      <td>885413</td>\n",
       "      <td>Foundations of Investing</td>\n",
       "      <td>https://www.udemy.com/foundations-of-investing/</td>\n",
       "      <td>True</td>\n",
       "      <td>40</td>\n",
       "      <td>0</td>\n",
       "      <td>0</td>\n",
       "      <td>18</td>\n",
       "      <td>Beginner Level</td>\n",
       "      <td>2.000000</td>\n",
       "      <td>2016-07-27T21:07:46Z</td>\n",
       "      <td>Business Finance</td>\n",
       "    </tr>\n",
       "  </tbody>\n",
       "</table>\n",
       "</div>"
      ],
      "text/plain": [
       "     course_id                                       course_title  \\\n",
       "885    1032648                               beginning accounting   \n",
       "456    1247992  Introduction to Project Management for Finance...   \n",
       "457    1251582              Best Practices in Corporate Budgeting   \n",
       "458    1258666                Financial Statement Auditing Cycles   \n",
       "459    1168172       Case studies on credit appraisal for bankers   \n",
       "460    1233314                      Building a Balanced Scorecard   \n",
       "461    1276182  Options Trading Foundation: Your journey to co...   \n",
       "462    1187084  Forex how traders beat the markest with little...   \n",
       "463    1084454                  CFA Level 2- Quantitative Methods   \n",
       "464     885413                           Foundations of Investing   \n",
       "\n",
       "                                                   url  is_paid  price  \\\n",
       "885        https://www.udemy.com/beginning_accounting/     True     20   \n",
       "456  https://www.udemy.com/introduction-to-project-...     True     50   \n",
       "457  https://www.udemy.com/best-practices-corporate...     True     50   \n",
       "458  https://www.udemy.com/financial-statement-audi...     True     50   \n",
       "459  https://www.udemy.com/case-studies-on-credit-a...     True     20   \n",
       "460  https://www.udemy.com/building-balanced-scorec...     True     50   \n",
       "461  https://www.udemy.com/option-trading-foundatio...     True     95   \n",
       "462  https://www.udemy.com/forex-how-traders-beat-t...     True    100   \n",
       "463  https://www.udemy.com/cfa-level-2-quantitative...     True     40   \n",
       "464    https://www.udemy.com/foundations-of-investing/     True     40   \n",
       "\n",
       "     num_subscribers  num_reviews  num_lectures               level  \\\n",
       "885                0            0            12  Intermediate Level   \n",
       "456                0            0             9      Beginner Level   \n",
       "457                0            0             9  Intermediate Level   \n",
       "458                0            0             9  Intermediate Level   \n",
       "459                0            0            15      Beginner Level   \n",
       "460                0            0            11  Intermediate Level   \n",
       "461                0            0             5  Intermediate Level   \n",
       "462                0            0            16          All Levels   \n",
       "463                0            0            35          All Levels   \n",
       "464                0            0            18      Beginner Level   \n",
       "\n",
       "     content_duration   published_timestamp           subject  \n",
       "885          0.633333  2016-12-26T16:52:47Z  Business Finance  \n",
       "456          2.000000  2017-07-03T21:40:32Z  Business Finance  \n",
       "457          2.000000  2017-06-29T22:01:56Z  Business Finance  \n",
       "458          2.000000  2017-06-29T23:20:10Z  Business Finance  \n",
       "459          3.500000  2017-05-01T20:16:26Z  Business Finance  \n",
       "460          2.000000  2017-07-03T21:38:22Z  Business Finance  \n",
       "461          1.000000  2017-07-05T04:41:54Z  Business Finance  \n",
       "462          1.000000  2017-07-06T21:16:13Z  Business Finance  \n",
       "463          5.500000  2017-07-02T14:29:35Z  Business Finance  \n",
       "464          2.000000  2016-07-27T21:07:46Z  Business Finance  "
      ]
     },
     "execution_count": 55,
     "metadata": {},
     "output_type": "execute_result"
    }
   ],
   "source": [
    "lowest_selling_courses = udemy_courses_df.sort_values('num_subscribers').head(10)\n",
    "lowest_selling_courses[lowest_selling_courses.num_subscribers <= 0]"
   ]
  },
  {
   "cell_type": "code",
   "execution_count": 56,
   "metadata": {},
   "outputs": [
    {
     "name": "stdout",
     "output_type": "stream",
     "text": [
      "These are the lowest selling courses in Udemy courses, according to the number of subscribers and buyers. \n"
     ]
    }
   ],
   "source": [
    "print('These are the lowest selling courses in Udemy courses, according to the number of subscribers and buyers. ')"
   ]
  },
  {
   "cell_type": "code",
   "execution_count": null,
   "metadata": {},
   "outputs": [],
   "source": []
  },
  {
   "cell_type": "markdown",
   "metadata": {},
   "source": [
    "Let us save and upload our work to Jovian before continuing."
   ]
  },
  {
   "cell_type": "code",
   "execution_count": 57,
   "metadata": {},
   "outputs": [],
   "source": [
    "import jovian"
   ]
  },
  {
   "cell_type": "code",
   "execution_count": 58,
   "metadata": {},
   "outputs": [
    {
     "data": {
      "application/javascript": [
       "window.require && require([\"base/js/namespace\"],function(Jupyter){Jupyter.notebook.save_checkpoint()})"
      ],
      "text/plain": [
       "<IPython.core.display.Javascript object>"
      ]
     },
     "metadata": {},
     "output_type": "display_data"
    },
    {
     "name": "stdout",
     "output_type": "stream",
     "text": [
      "[jovian] Updating notebook \"bkbhaskar25/zero-to-pandas-course-project\" on https://jovian.ai\u001b[0m\n",
      "[jovian] Committed successfully! https://jovian.ai/bkbhaskar25/zero-to-pandas-course-project\u001b[0m\n"
     ]
    },
    {
     "data": {
      "text/plain": [
       "'https://jovian.ai/bkbhaskar25/zero-to-pandas-course-project'"
      ]
     },
     "execution_count": 58,
     "metadata": {},
     "output_type": "execute_result"
    }
   ],
   "source": [
    "jovian.commit()"
   ]
  },
  {
   "cell_type": "markdown",
   "metadata": {},
   "source": [
    "## Inferences and Conclusion\n",
    "\n",
    "In this we analyzed and made a project on Udemy Courses. Data analysis and statistical interference is performed on a kaggle dataset which has a data on Udemy Courses. This has 3678 rows and 12 columns in this dataset.\n",
    "dataset of this particular project is available here : https://www.kaggle.com/andrewmvd/udemy-courses\n",
    "Conclusion of this project is that how a few lines of code in python using NumPy, Matplotlib, Pandas help perform analysis on a dataset with very minimal information. "
   ]
  },
  {
   "cell_type": "code",
   "execution_count": 59,
   "metadata": {},
   "outputs": [],
   "source": [
    "import jovian"
   ]
  },
  {
   "cell_type": "code",
   "execution_count": null,
   "metadata": {},
   "outputs": [
    {
     "data": {
      "application/javascript": [
       "window.require && require([\"base/js/namespace\"],function(Jupyter){Jupyter.notebook.save_checkpoint()})"
      ],
      "text/plain": [
       "<IPython.core.display.Javascript object>"
      ]
     },
     "metadata": {},
     "output_type": "display_data"
    }
   ],
   "source": [
    "jovian.commit()"
   ]
  },
  {
   "cell_type": "markdown",
   "metadata": {},
   "source": [
    "## References and Future Work\n",
    "\n",
    "**TODO** - Write some explanation here: ideas for future projects using this dataset, and links to resources you found useful."
   ]
  },
  {
   "cell_type": "markdown",
   "metadata": {},
   "source": [
    "> Submission Instructions (delete this cell)\n",
    "> \n",
    "> - Upload your notebook to your Jovian.ml profile using `jovian.commit`.\n",
    "> - **Make a submission here**: https://jovian.ml/learn/data-analysis-with-python-zero-to-pandas/assignment/course-project\n",
    "> - Share your work on the forum: https://jovian.ml/forum/t/course-project-on-exploratory-data-analysis-discuss-and-share-your-work/11684\n",
    "> - Share your work on social media (Twitter, LinkedIn, Telegram etc.) and tag [@JovianML](https://twitter.com/jovianml)\n",
    ">\n",
    "> (Optional) Write a blog post\n",
    "> \n",
    "> - A blog post is a great way to present and showcase your work.  \n",
    "> - Sign up on [Medium.com](https://medium.com) to write a blog post for your project.\n",
    "> - Copy over the explanations from your Jupyter notebook into your blog post, and [embed code cells & outputs](https://medium.com/jovianml/share-and-embed-jupyter-notebooks-online-with-jovian-ml-df709a03064e)\n",
    "> - Check out the Jovian.ml Medium publication for inspiration: https://medium.com/jovianml\n",
    "\n",
    "\n",
    " "
   ]
  },
  {
   "cell_type": "code",
   "execution_count": 32,
   "metadata": {},
   "outputs": [],
   "source": [
    "import jovian"
   ]
  },
  {
   "cell_type": "code",
   "execution_count": 35,
   "metadata": {
    "scrolled": true
   },
   "outputs": [
    {
     "data": {
      "application/javascript": [
       "window.require && require([\"base/js/namespace\"],function(Jupyter){Jupyter.notebook.save_checkpoint()})"
      ],
      "text/plain": [
       "<IPython.core.display.Javascript object>"
      ]
     },
     "metadata": {},
     "output_type": "display_data"
    },
    {
     "name": "stdout",
     "output_type": "stream",
     "text": [
      "[jovian] Attempting to save notebook..\u001b[0m\n",
      "[jovian] Updating notebook \"aakashns/zerotopandas-course-project-starter\" on https://jovian.ml/\u001b[0m\n",
      "[jovian] Uploading notebook..\u001b[0m\n",
      "[jovian] Capturing environment..\u001b[0m\n",
      "[jovian] Committed successfully! https://jovian.ml/aakashns/zerotopandas-course-project-starter\u001b[0m\n"
     ]
    },
    {
     "data": {
      "text/plain": [
       "'https://jovian.ml/aakashns/zerotopandas-course-project-starter'"
      ]
     },
     "execution_count": 35,
     "metadata": {},
     "output_type": "execute_result"
    }
   ],
   "source": [
    "jovian.commit()"
   ]
  },
  {
   "cell_type": "code",
   "execution_count": null,
   "metadata": {},
   "outputs": [],
   "source": []
  }
 ],
 "metadata": {
  "kernelspec": {
   "display_name": "Python 3 (ipykernel)",
   "language": "python",
   "name": "python3"
  },
  "language_info": {
   "codemirror_mode": {
    "name": "ipython",
    "version": 3
   },
   "file_extension": ".py",
   "mimetype": "text/x-python",
   "name": "python",
   "nbconvert_exporter": "python",
   "pygments_lexer": "ipython3",
   "version": "3.9.12"
  }
 },
 "nbformat": 4,
 "nbformat_minor": 4
}
